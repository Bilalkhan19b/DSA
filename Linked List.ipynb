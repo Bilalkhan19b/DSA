{
 "cells": [
  {
   "cell_type": "markdown",
   "id": "81fac8c4",
   "metadata": {},
   "source": [
    "# Linked List\n",
    "- Linked list is a collection of nodes\n",
    "- Link list is a linear data structure\n",
    "- Node -> Node is a object which store data and address to next node\n",
    "- Head -> First node of the linked list\n",
    "- Tail -> Last node of the linked list (Address portion of tail = None)"
   ]
  },
  {
   "cell_type": "code",
   "execution_count": 9,
   "id": "10594c8a",
   "metadata": {},
   "outputs": [],
   "source": [
    "class Node:\n",
    "    def __init__(self,value):\n",
    "        self.data = value\n",
    "        self.next = None"
   ]
  },
  {
   "cell_type": "code",
   "execution_count": 10,
   "id": "20f5b7f7",
   "metadata": {},
   "outputs": [],
   "source": [
    "a=Node(1)"
   ]
  },
  {
   "cell_type": "code",
   "execution_count": 18,
   "id": "3d707407",
   "metadata": {},
   "outputs": [
    {
     "name": "stdout",
     "output_type": "stream",
     "text": [
      "1\n"
     ]
    }
   ],
   "source": [
    "print(a.data)"
   ]
  },
  {
   "cell_type": "code",
   "execution_count": 19,
   "id": "11f57bb9",
   "metadata": {},
   "outputs": [],
   "source": [
    "b=Node(2)"
   ]
  },
  {
   "cell_type": "code",
   "execution_count": 20,
   "id": "34d4869f",
   "metadata": {},
   "outputs": [
    {
     "name": "stdout",
     "output_type": "stream",
     "text": [
      "2\n"
     ]
    }
   ],
   "source": [
    "print(b.data)"
   ]
  },
  {
   "cell_type": "code",
   "execution_count": 17,
   "id": "7bcfded7",
   "metadata": {},
   "outputs": [],
   "source": [
    "c=Node(3)"
   ]
  },
  {
   "cell_type": "code",
   "execution_count": 21,
   "id": "8474f1c5",
   "metadata": {},
   "outputs": [
    {
     "name": "stdout",
     "output_type": "stream",
     "text": [
      "3\n"
     ]
    }
   ],
   "source": [
    "print(c.data)"
   ]
  },
  {
   "cell_type": "code",
   "execution_count": 22,
   "id": "72c3612c",
   "metadata": {},
   "outputs": [
    {
     "data": {
      "text/plain": [
       "2580202668288"
      ]
     },
     "execution_count": 22,
     "metadata": {},
     "output_type": "execute_result"
    }
   ],
   "source": [
    "id(a)"
   ]
  },
  {
   "cell_type": "code",
   "execution_count": 23,
   "id": "e4e3e933",
   "metadata": {},
   "outputs": [
    {
     "data": {
      "text/plain": [
       "2580202989600"
      ]
     },
     "execution_count": 23,
     "metadata": {},
     "output_type": "execute_result"
    }
   ],
   "source": [
    "id(b)"
   ]
  },
  {
   "cell_type": "code",
   "execution_count": 24,
   "id": "d0cb971a",
   "metadata": {},
   "outputs": [
    {
     "data": {
      "text/plain": [
       "2580202988208"
      ]
     },
     "execution_count": 24,
     "metadata": {},
     "output_type": "execute_result"
    }
   ],
   "source": [
    "id(c)"
   ]
  },
  {
   "cell_type": "code",
   "execution_count": 25,
   "id": "111da757",
   "metadata": {},
   "outputs": [],
   "source": [
    "a.next=b\n",
    "b.next=c"
   ]
  },
  {
   "cell_type": "code",
   "execution_count": 26,
   "id": "be539c9c",
   "metadata": {},
   "outputs": [
    {
     "name": "stdout",
     "output_type": "stream",
     "text": [
      "<__main__.Node object at 0x00000258C0152820>\n"
     ]
    }
   ],
   "source": [
    "print(a.next)"
   ]
  },
  {
   "cell_type": "code",
   "execution_count": 27,
   "id": "d10a4f32",
   "metadata": {},
   "outputs": [
    {
     "data": {
      "text/plain": [
       "2580202989600"
      ]
     },
     "execution_count": 27,
     "metadata": {},
     "output_type": "execute_result"
    }
   ],
   "source": [
    "int(0x00000258C0152820)"
   ]
  },
  {
   "cell_type": "code",
   "execution_count": 28,
   "id": "2bf9cb9f",
   "metadata": {},
   "outputs": [
    {
     "name": "stdout",
     "output_type": "stream",
     "text": [
      "<__main__.Node object at 0x00000258C01522B0>\n"
     ]
    }
   ],
   "source": [
    "print(b.next)"
   ]
  },
  {
   "cell_type": "code",
   "execution_count": 29,
   "id": "b476f083",
   "metadata": {},
   "outputs": [
    {
     "data": {
      "text/plain": [
       "2580202988208"
      ]
     },
     "execution_count": 29,
     "metadata": {},
     "output_type": "execute_result"
    }
   ],
   "source": [
    "int(0x00000258C01522B0)"
   ]
  },
  {
   "cell_type": "code",
   "execution_count": 30,
   "id": "20c006a0",
   "metadata": {},
   "outputs": [
    {
     "name": "stdout",
     "output_type": "stream",
     "text": [
      "None\n"
     ]
    }
   ],
   "source": [
    "print(c.next)"
   ]
  },
  {
   "cell_type": "code",
   "execution_count": 32,
   "id": "fad68338",
   "metadata": {},
   "outputs": [],
   "source": [
    "# Creating node\n",
    "class Node:\n",
    "    \n",
    "    def __init__(self,value):\n",
    "        self.data = value\n",
    "        self.next = None"
   ]
  },
  {
   "cell_type": "code",
   "execution_count": 358,
   "id": "82c082c6",
   "metadata": {},
   "outputs": [],
   "source": [
    "class LinkedList:\n",
    "    \n",
    "    def __init__(self):\n",
    "        # empty linked list\n",
    "        self.head = None\n",
    "        # no of nodes in the LL\n",
    "        self.n=0\n",
    "        \n",
    "    def __len__(self):\n",
    "        return self.n\n",
    "        \n",
    "    def insert_head(self,value):\n",
    "        # new node\n",
    "        new_node = Node(value)\n",
    "        # create connection\n",
    "        new_node.next = self.head\n",
    "        # re-assign head\n",
    "        self.head = new_node\n",
    "        # increment no of nodes\n",
    "        self.n = self.n + 1\n",
    "        \n",
    "    def __str__(self):\n",
    "        curr = self.head\n",
    "        result=\"\"\n",
    "        \n",
    "        while curr != None:\n",
    "            result = result + str(curr.data) + \"->\"\n",
    "            curr = curr.next\n",
    "        return result[:-2]\n",
    "    \n",
    "    def append(self,value):\n",
    "        new_node = Node(value)\n",
    "        \n",
    "        if self.head == None:\n",
    "            # empty\n",
    "            self.head = new_node\n",
    "            self.n = self.n + 1\n",
    "            return\n",
    "        else:\n",
    "            curr = self.head\n",
    "\n",
    "            while curr.next != None:\n",
    "                curr = curr.next\n",
    "\n",
    "            # you are at the last node\n",
    "            curr.next = new_node\n",
    "            self.n += 1\n",
    "            \n",
    "    def insert_after(self,after,value):\n",
    "        \n",
    "        new_node = Node(value)\n",
    "        curr = self.head\n",
    "        \n",
    "        while curr != None:\n",
    "            if curr.data == after:\n",
    "                break\n",
    "            curr=curr.next\n",
    "            \n",
    "        # case1: break -> item mil gya -> curr -> Not None\n",
    "        if curr != None:\n",
    "            new_node.next = curr.next\n",
    "            curr.next = new_node\n",
    "            self.n +=1\n",
    "    \n",
    "        # case2: Loop poora chla -> item nhi mila ->curr -> None\n",
    "        return \"Item-Not-Found\"\n",
    "    \n",
    "    def clear(self):\n",
    "        self.head = None\n",
    "        self.n = 0\n",
    "        \n",
    "    def delete_head(self):\n",
    "        if self.head == None:\n",
    "            return \"Empty-LL\"\n",
    "        self.head = self.head.next\n",
    "        self.n = self.n - 1\n",
    "        \n",
    "    def pop(self):\n",
    "        \n",
    "         # kia linked list empty hai?\n",
    "        if self.head == None:\n",
    "            return \"Empty-LL\"\n",
    "        \n",
    "        curr = self.head\n",
    "        \n",
    "        # kia linked list me 1 item hai?\n",
    "        if curr.next == None:\n",
    "            # 1 he item hai to wo head he hoga -> (delete from head)\n",
    "            return self.delete_head()\n",
    "        \n",
    "        while curr.next.next != None:\n",
    "            curr=curr.next\n",
    "            \n",
    "        # curr =  2nd last element\n",
    "        curr.next=None\n",
    "        self.n = self.n - 1\n",
    "        \n",
    "    def remove(self,value):\n",
    "        \n",
    "        if self.head == None:\n",
    "            return \"Empty-LL\"\n",
    "        \n",
    "        if self.head.data == value:\n",
    "            # you want to remove head node\n",
    "            return self.delete_head()\n",
    "        \n",
    "        curr = self.head\n",
    "        \n",
    "        while curr.next != None:\n",
    "            if curr.next.data == value:\n",
    "                break\n",
    "            curr=curr.next\n",
    "            \n",
    "        # case 1: Item nhi mila\n",
    "        if curr.next == None:\n",
    "            return \"Item-Not-Found\"\n",
    "        \n",
    "        # case 2: Item mil gya\n",
    "        else:\n",
    "            curr.next = curr.next.next\n",
    "    \n",
    "    def search(self,item):\n",
    "        \n",
    "        curr=self.head\n",
    "        pos = 0\n",
    "        \n",
    "        while curr != None:\n",
    "            if curr.data == item:\n",
    "                return pos\n",
    "            \n",
    "            curr = curr.next\n",
    "            pos = pos + 1\n",
    "            \n",
    "        return \"Item-Not-Found\"\n",
    "    \n",
    "    def __getitem__(self,index):\n",
    "        \n",
    "        curr = self.head\n",
    "        pos = 0\n",
    "        \n",
    "        while curr != None:\n",
    "            if pos == index:\n",
    "                return curr.data\n",
    "            \n",
    "            curr = curr.next\n",
    "            pos = pos + 1\n",
    "            \n",
    "        return \"Index-Not-Found\"\n",
    "    \n",
    "    def replace_with_max(self,value):\n",
    "        \n",
    "        curr = self.head\n",
    "        max = temp\n",
    "        \n",
    "        while curr != None:\n",
    "            if curr.data > max.data:\n",
    "                max = curr\n",
    "            curr = curr.next\n",
    "        \n",
    "        max.data = value\n",
    "                \n",
    "    def sum_odd_nodes(self):\n",
    "        \n",
    "        curr = self.head\n",
    "        counter = 0\n",
    "        result = 0\n",
    "        \n",
    "        while curr != None:\n",
    "            \n",
    "            if counter % 2 != 0:\n",
    "                result = result + curr.data\n",
    "                \n",
    "            counter = counter + 1\n",
    "            curr = curr.next\n",
    "            \n",
    "        print(result)\n",
    "        \n",
    "    def reverse_LL(self):\n",
    "        \n",
    "        prev = None\n",
    "        curr = self.head\n",
    "        \n",
    "        while curr != None:\n",
    "            next_node = curr.next\n",
    "            curr.next = prev\n",
    "            prev = curr\n",
    "            curr = next_node\n",
    "            \n",
    "        self.head = prev\n",
    "        print(L)\n"
   ]
  },
  {
   "cell_type": "code",
   "execution_count": 338,
   "id": "65ba59c7",
   "metadata": {},
   "outputs": [],
   "source": [
    "L=LinkedList()"
   ]
  },
  {
   "cell_type": "code",
   "execution_count": 339,
   "id": "989f99a8",
   "metadata": {},
   "outputs": [],
   "source": [
    "L.insert_head(1)"
   ]
  },
  {
   "cell_type": "code",
   "execution_count": 340,
   "id": "ba9ba204",
   "metadata": {},
   "outputs": [],
   "source": [
    "L.insert_head(2)"
   ]
  },
  {
   "cell_type": "code",
   "execution_count": 341,
   "id": "0188e08e",
   "metadata": {},
   "outputs": [],
   "source": [
    "L.insert_head(3)"
   ]
  },
  {
   "cell_type": "code",
   "execution_count": 314,
   "id": "ee6ccc29",
   "metadata": {},
   "outputs": [],
   "source": [
    "L.insert_head(4)"
   ]
  },
  {
   "cell_type": "code",
   "execution_count": 305,
   "id": "6aea829d",
   "metadata": {},
   "outputs": [
    {
     "data": {
      "text/plain": [
       "'Item-Not-Found'"
      ]
     },
     "execution_count": 305,
     "metadata": {},
     "output_type": "execute_result"
    }
   ],
   "source": [
    "L.search(20)"
   ]
  },
  {
   "cell_type": "code",
   "execution_count": 306,
   "id": "29c2b2ce",
   "metadata": {},
   "outputs": [
    {
     "data": {
      "text/plain": [
       "'Index-Not-Found'"
      ]
     },
     "execution_count": 306,
     "metadata": {},
     "output_type": "execute_result"
    }
   ],
   "source": [
    "L[5]"
   ]
  },
  {
   "cell_type": "code",
   "execution_count": 298,
   "id": "1848ba8c",
   "metadata": {},
   "outputs": [],
   "source": [
    "L.replace_with_max(5)"
   ]
  },
  {
   "cell_type": "code",
   "execution_count": 189,
   "id": "3bbca6db",
   "metadata": {},
   "outputs": [
    {
     "data": {
      "text/plain": [
       "4"
      ]
     },
     "execution_count": 189,
     "metadata": {},
     "output_type": "execute_result"
    }
   ],
   "source": [
    "len(L)"
   ]
  },
  {
   "cell_type": "code",
   "execution_count": 342,
   "id": "9eed9126",
   "metadata": {},
   "outputs": [
    {
     "name": "stdout",
     "output_type": "stream",
     "text": [
      "3->2->1\n"
     ]
    }
   ],
   "source": [
    "print(L)"
   ]
  },
  {
   "cell_type": "code",
   "execution_count": 347,
   "id": "bc1a132c",
   "metadata": {},
   "outputs": [
    {
     "name": "stdout",
     "output_type": "stream",
     "text": [
      "3->2->1\n"
     ]
    }
   ],
   "source": [
    "L.reverse_LL()"
   ]
  },
  {
   "cell_type": "code",
   "execution_count": 345,
   "id": "d42b7a3b",
   "metadata": {},
   "outputs": [
    {
     "name": "stdout",
     "output_type": "stream",
     "text": [
      "2\n"
     ]
    }
   ],
   "source": [
    "L.sum_odd_nodes()"
   ]
  },
  {
   "cell_type": "code",
   "execution_count": 191,
   "id": "ec83bde3",
   "metadata": {},
   "outputs": [],
   "source": [
    "L.append(5)"
   ]
  },
  {
   "cell_type": "code",
   "execution_count": 192,
   "id": "4a2a3710",
   "metadata": {},
   "outputs": [],
   "source": [
    "L.insert_after(3,100)"
   ]
  },
  {
   "cell_type": "code",
   "execution_count": 165,
   "id": "736c6591",
   "metadata": {},
   "outputs": [],
   "source": [
    "L.clear()"
   ]
  },
  {
   "cell_type": "code",
   "execution_count": 193,
   "id": "e25c036a",
   "metadata": {},
   "outputs": [],
   "source": [
    "L.delete_head()"
   ]
  },
  {
   "cell_type": "code",
   "execution_count": 250,
   "id": "c8f878f8",
   "metadata": {},
   "outputs": [],
   "source": [
    "L.pop()"
   ]
  },
  {
   "cell_type": "code",
   "execution_count": 251,
   "id": "bb1cbc5d",
   "metadata": {},
   "outputs": [
    {
     "data": {
      "text/plain": [
       "'Item not found'"
      ]
     },
     "execution_count": 251,
     "metadata": {},
     "output_type": "execute_result"
    }
   ],
   "source": [
    "L.remove(3)"
   ]
  },
  {
   "cell_type": "markdown",
   "id": "ae3205d2",
   "metadata": {},
   "source": [
    "### Word List Problem\n",
    "Given a linked list of characters.Write a function to return a new string that is created by appending all the characters given in the linked list as per the rules below:\n",
    "- Replace '*' or '/' by a single space\n",
    "- In case of two consecutive occurrences of '*' or '/',Replace those two occurences by a single space and convert the next character to upper case.\n",
    "- Assume that , There will not be more than two consecutive occurences of '*' or '/'\n",
    "- Linked list will always end with an alphabet\n",
    "\n",
    "- Sample input: \"The/*sky/is//blue\"\n",
    "- Expected Output: \"The Sky is Blue\""
   ]
  },
  {
   "cell_type": "code",
   "execution_count": 362,
   "id": "bc342bd2",
   "metadata": {},
   "outputs": [],
   "source": [
    "class Node:\n",
    "    \n",
    "    def __init__(self,value):\n",
    "        self.data = value\n",
    "        self.next = None"
   ]
  },
  {
   "cell_type": "code",
   "execution_count": 386,
   "id": "10f6aa94",
   "metadata": {},
   "outputs": [],
   "source": [
    "class LL:\n",
    "    \n",
    "    def __init__(self):\n",
    "        self.head = None\n",
    "        self.n = 0\n",
    "        \n",
    "    def __str__(self):\n",
    "        curr = self.head\n",
    "        result=\"\"\n",
    "        \n",
    "        while curr != None:\n",
    "            result = result + str(curr.data)\n",
    "            curr = curr.next\n",
    "        return result   \n",
    "    \n",
    "    def append(self,value):\n",
    "        new_node = Node(value)\n",
    "        \n",
    "        if self.head == None:\n",
    "            self.head = new_node\n",
    "            self.n = self.n + 1\n",
    "            return\n",
    "        else:\n",
    "            curr = self.head\n",
    "            while curr.next != None:\n",
    "                curr = curr.next\n",
    "            curr.next = new_node\n",
    "            self.n += 1\n",
    "            \n",
    "    def change_sentence(self):\n",
    "        \n",
    "        curr = self.head\n",
    "        while curr != None:\n",
    "            if curr.data == \"*\" or curr.data == \"/\":\n",
    "                curr.data = \" \"\n",
    "                if curr.next.data == \"*\" or curr.next.data == \"/\":\n",
    "                    curr.next.next.data = curr.next.next.data.upper()\n",
    "                    curr.next = curr.next.next\n",
    "            curr = curr.next\n",
    "        print(word_list)"
   ]
  },
  {
   "cell_type": "code",
   "execution_count": 387,
   "id": "bcf0f74e",
   "metadata": {},
   "outputs": [],
   "source": [
    "# creating the object of LL class\n",
    "word_list=LL()"
   ]
  },
  {
   "cell_type": "code",
   "execution_count": 388,
   "id": "aa73aa6a",
   "metadata": {},
   "outputs": [],
   "source": [
    "word_list.append(\"T\")\n",
    "word_list.append(\"h\")\n",
    "word_list.append(\"e\")\n",
    "word_list.append(\"/\")\n",
    "word_list.append(\"*\")\n",
    "word_list.append(\"s\")\n",
    "word_list.append(\"k\")\n",
    "word_list.append(\"y\")\n",
    "word_list.append(\"*\")\n",
    "word_list.append(\"i\")\n",
    "word_list.append(\"s\")\n",
    "word_list.append(\"/\")\n",
    "word_list.append(\"/\")\n",
    "word_list.append(\"b\")\n",
    "word_list.append(\"l\")\n",
    "word_list.append(\"u\")\n",
    "word_list.append(\"e\")"
   ]
  },
  {
   "cell_type": "code",
   "execution_count": 389,
   "id": "53da9013",
   "metadata": {},
   "outputs": [
    {
     "name": "stdout",
     "output_type": "stream",
     "text": [
      "The/*sky*is//blue\n"
     ]
    }
   ],
   "source": [
    "print(word_list)"
   ]
  },
  {
   "cell_type": "code",
   "execution_count": 390,
   "id": "dc9da047",
   "metadata": {},
   "outputs": [
    {
     "name": "stdout",
     "output_type": "stream",
     "text": [
      "The Sky is Blue\n"
     ]
    }
   ],
   "source": [
    "word_list.change_sentence()"
   ]
  },
  {
   "cell_type": "code",
   "execution_count": 391,
   "id": "7bd75609",
   "metadata": {},
   "outputs": [
    {
     "name": "stdout",
     "output_type": "stream",
     "text": [
      "The Sky is Blue\n"
     ]
    }
   ],
   "source": [
    "print(word_list)"
   ]
  },
  {
   "cell_type": "code",
   "execution_count": null,
   "id": "e08ab7c7",
   "metadata": {},
   "outputs": [],
   "source": []
  }
 ],
 "metadata": {
  "kernelspec": {
   "display_name": "Python 3 (ipykernel)",
   "language": "python",
   "name": "python3"
  },
  "language_info": {
   "codemirror_mode": {
    "name": "ipython",
    "version": 3
   },
   "file_extension": ".py",
   "mimetype": "text/x-python",
   "name": "python",
   "nbconvert_exporter": "python",
   "pygments_lexer": "ipython3",
   "version": "3.9.13"
  }
 },
 "nbformat": 4,
 "nbformat_minor": 5
}
