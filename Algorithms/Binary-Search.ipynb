{
 "cells": [
  {
   "cell_type": "markdown",
   "id": "77b4bb2a",
   "metadata": {},
   "source": [
    "### Binary Search using Recursion\n",
    "- Binary search works on sorted array\n",
    "- Time complexity --> O(logn)"
   ]
  },
  {
   "cell_type": "code",
   "execution_count": 12,
   "id": "e8e6357e",
   "metadata": {},
   "outputs": [],
   "source": [
    "def binary_search(arr,low,high,item):\n",
    "    if low <= high:\n",
    "        #search\n",
    "        mid = (low+high)//2\n",
    "        if arr[mid] == item:\n",
    "            return mid\n",
    "        elif arr[mid] > item:\n",
    "            return binary_search(arr,low,mid-1,item)\n",
    "        else:\n",
    "            return binary_search(arr,mid+1,high,item)\n",
    "    else:\n",
    "        return \"Not present\""
   ]
  },
  {
   "cell_type": "code",
   "execution_count": 13,
   "id": "9f65e8db",
   "metadata": {},
   "outputs": [],
   "source": [
    "arr = [2,13,22,45,56,78,100]"
   ]
  },
  {
   "cell_type": "code",
   "execution_count": 14,
   "id": "57f1d3d1",
   "metadata": {},
   "outputs": [
    {
     "data": {
      "text/plain": [
       "0"
      ]
     },
     "execution_count": 14,
     "metadata": {},
     "output_type": "execute_result"
    }
   ],
   "source": [
    "binary_search(arr,0,len(arr)-1,2)"
   ]
  },
  {
   "cell_type": "code",
   "execution_count": 15,
   "id": "ff9d0e52",
   "metadata": {},
   "outputs": [
    {
     "data": {
      "text/plain": [
       "6"
      ]
     },
     "execution_count": 15,
     "metadata": {},
     "output_type": "execute_result"
    }
   ],
   "source": [
    "binary_search(arr,0,len(arr)-1,100)"
   ]
  },
  {
   "cell_type": "code",
   "execution_count": 16,
   "id": "0667ecd9",
   "metadata": {},
   "outputs": [
    {
     "data": {
      "text/plain": [
       "'Not present'"
      ]
     },
     "execution_count": 16,
     "metadata": {},
     "output_type": "execute_result"
    }
   ],
   "source": [
    "binary_search(arr,0,len(arr)-1,20)"
   ]
  },
  {
   "cell_type": "code",
   "execution_count": null,
   "id": "aa5a4a9f",
   "metadata": {},
   "outputs": [],
   "source": [
    "# Debugging binary search using print statement"
   ]
  },
  {
   "cell_type": "code",
   "execution_count": 5,
   "id": "43f4c86b",
   "metadata": {},
   "outputs": [],
   "source": [
    "def binary_search(arr,low,high,item):\n",
    "    print(\"low:\",low,\"high:\",high,end = \" \")\n",
    "    if low <= high:\n",
    "        #search\n",
    "        mid = (low+high)//2\n",
    "        print(\"mid value is: \",arr[mid])\n",
    "        if arr[mid] == item:\n",
    "            return mid\n",
    "        elif arr[mid] > item:\n",
    "            return binary_search(arr,low,mid-1,item)\n",
    "        else:\n",
    "            return binary_search(arr,mid+1,high,item)\n",
    "    else:\n",
    "        return \"Not present\""
   ]
  },
  {
   "cell_type": "code",
   "execution_count": 6,
   "id": "724e05ee",
   "metadata": {},
   "outputs": [],
   "source": [
    "arr = [2,13,22,45,56,78,100]"
   ]
  },
  {
   "cell_type": "code",
   "execution_count": 7,
   "id": "acd31ea7",
   "metadata": {},
   "outputs": [
    {
     "name": "stdout",
     "output_type": "stream",
     "text": [
      "low: 0 high: 6 mid value is:  45\n",
      "low: 0 high: 2 mid value is:  13\n",
      "low: 0 high: 0 mid value is:  2\n"
     ]
    },
    {
     "data": {
      "text/plain": [
       "0"
      ]
     },
     "execution_count": 7,
     "metadata": {},
     "output_type": "execute_result"
    }
   ],
   "source": [
    "binary_search(arr,0,len(arr)-1,2)"
   ]
  },
  {
   "cell_type": "code",
   "execution_count": 8,
   "id": "a5754b0a",
   "metadata": {},
   "outputs": [
    {
     "name": "stdout",
     "output_type": "stream",
     "text": [
      "low: 0 high: 6 mid value is:  45\n",
      "low: 4 high: 6 mid value is:  78\n",
      "low: 6 high: 6 mid value is:  100\n"
     ]
    },
    {
     "data": {
      "text/plain": [
       "6"
      ]
     },
     "execution_count": 8,
     "metadata": {},
     "output_type": "execute_result"
    }
   ],
   "source": [
    "binary_search(arr,0,len(arr)-1,100)"
   ]
  },
  {
   "cell_type": "code",
   "execution_count": 9,
   "id": "932ef7d4",
   "metadata": {},
   "outputs": [
    {
     "name": "stdout",
     "output_type": "stream",
     "text": [
      "low: 0 high: 6 mid value is:  45\n",
      "low: 0 high: 2 mid value is:  13\n",
      "low: 2 high: 2 mid value is:  22\n",
      "low: 2 high: 1 "
     ]
    },
    {
     "data": {
      "text/plain": [
       "'Not present'"
      ]
     },
     "execution_count": 9,
     "metadata": {},
     "output_type": "execute_result"
    }
   ],
   "source": [
    "binary_search(arr,0,len(arr)-1,20)"
   ]
  },
  {
   "cell_type": "code",
   "execution_count": null,
   "id": "27422252",
   "metadata": {},
   "outputs": [],
   "source": []
  }
 ],
 "metadata": {
  "kernelspec": {
   "display_name": "Python 3 (ipykernel)",
   "language": "python",
   "name": "python3"
  },
  "language_info": {
   "codemirror_mode": {
    "name": "ipython",
    "version": 3
   },
   "file_extension": ".py",
   "mimetype": "text/x-python",
   "name": "python",
   "nbconvert_exporter": "python",
   "pygments_lexer": "ipython3",
   "version": "3.9.13"
  }
 },
 "nbformat": 4,
 "nbformat_minor": 5
}
