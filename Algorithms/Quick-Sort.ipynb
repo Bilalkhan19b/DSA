{
 "cells": [
  {
   "cell_type": "markdown",
   "id": "d3d96828",
   "metadata": {},
   "source": [
    "### Quick Sort\n",
    "- Worst case time complexity => O(n^2)\n",
    "- Average case time complexity => O(nlogn)\n",
    "- Best case time complexity => O(nlogn)\n",
    "- Stable => No\n",
    "- Adaptive => yes"
   ]
  },
  {
   "cell_type": "code",
   "execution_count": 29,
   "id": "105e3632",
   "metadata": {},
   "outputs": [],
   "source": [
    "def quick_sort(arr):\n",
    "    \n",
    "    if len(arr) <= 1:\n",
    "        return arr\n",
    "    \n",
    "    else:\n",
    "        pivot = arr.pop()\n",
    "        \n",
    "    items_greater = []\n",
    "    items_lower = []\n",
    "        \n",
    "    for i in arr:\n",
    "        \n",
    "        if i < pivot:\n",
    "            items_lower.append(i)\n",
    "            \n",
    "        else:\n",
    "            items_greater.append(i)\n",
    "            \n",
    "    return quick_sort(items_lower) + [pivot] + quick_sort(items_greater)"
   ]
  },
  {
   "cell_type": "code",
   "execution_count": 30,
   "id": "e966b6e8",
   "metadata": {},
   "outputs": [
    {
     "name": "stdout",
     "output_type": "stream",
     "text": [
      "[1, 2, 2, 3, 5, 6, 7, 9]\n"
     ]
    }
   ],
   "source": [
    "print(quick_sort([3,5,6,1,2,9,2,7]))"
   ]
  },
  {
   "cell_type": "code",
   "execution_count": null,
   "id": "4dce67be",
   "metadata": {},
   "outputs": [],
   "source": []
  }
 ],
 "metadata": {
  "kernelspec": {
   "display_name": "Python 3 (ipykernel)",
   "language": "python",
   "name": "python3"
  },
  "language_info": {
   "codemirror_mode": {
    "name": "ipython",
    "version": 3
   },
   "file_extension": ".py",
   "mimetype": "text/x-python",
   "name": "python",
   "nbconvert_exporter": "python",
   "pygments_lexer": "ipython3",
   "version": "3.9.13"
  }
 },
 "nbformat": 4,
 "nbformat_minor": 5
}
