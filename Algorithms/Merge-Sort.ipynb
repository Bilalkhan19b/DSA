{
 "cells": [
  {
   "cell_type": "markdown",
   "id": "cba966ca",
   "metadata": {},
   "source": [
    "### Merge Sort\n",
    " - Time complexity --> O(nlogn)\n",
    " - Space complexity --> O(n)\n",
    " - Adaptive --> No\n",
    " - Stable --> Yes"
   ]
  },
  {
   "cell_type": "code",
   "execution_count": 1,
   "id": "ba9b02de",
   "metadata": {},
   "outputs": [],
   "source": [
    "# creating a helper function for merge sort which merge two sorted arrays\n",
    "\n",
    "def merge_sorted(arr1,arr2):\n",
    "    \n",
    "    i = 0\n",
    "    j = 0\n",
    "    merged = []\n",
    "    \n",
    "    while i < len(arr1) and j < len(arr2):\n",
    "        if arr1[i] < arr2[j]:\n",
    "            merged.append(arr1[i])\n",
    "            i = i + 1\n",
    "        else:\n",
    "            merged.append(arr2[j])\n",
    "            j = j + 1\n",
    "    while i < len(arr1):\n",
    "        merged.append(arr1[i])\n",
    "        i = i + 1\n",
    "    while j < len(arr2):\n",
    "        merged.append(arr2[j])\n",
    "        j = j + 1\n",
    "    return merged"
   ]
  },
  {
   "cell_type": "code",
   "execution_count": 2,
   "id": "7cc4d23f",
   "metadata": {},
   "outputs": [
    {
     "data": {
      "text/plain": [
       "[1, 2, 3, 4, 8, 9]"
      ]
     },
     "execution_count": 2,
     "metadata": {},
     "output_type": "execute_result"
    }
   ],
   "source": [
    "arr1 = [1,2,3]\n",
    "arr2 = [4,8,9]\n",
    "merge_sorted(arr1,arr2)"
   ]
  },
  {
   "cell_type": "code",
   "execution_count": 3,
   "id": "30ba9a18",
   "metadata": {},
   "outputs": [],
   "source": [
    "# time complexity => O(nlogn)\n",
    "# space complexity => < O(2n)\n",
    "def merge_sort(arr):\n",
    "    if len(arr) ==1:\n",
    "        return arr\n",
    "    else:\n",
    "        mid = len(arr)//2\n",
    "        \n",
    "        left = arr[:mid]\n",
    "        right = arr[mid:]\n",
    "        \n",
    "        left = merge_sort(left)\n",
    "        right = merge_sort(right)\n",
    "        \n",
    "        return merge_sorted(left,right)"
   ]
  },
  {
   "cell_type": "code",
   "execution_count": 24,
   "id": "df3739a3",
   "metadata": {},
   "outputs": [
    {
     "name": "stdout",
     "output_type": "stream",
     "text": [
      "[16, 19, 17, 10, 14]\n"
     ]
    }
   ],
   "source": [
    "import random\n",
    "a = random.sample(range(0,20),5)\n",
    "print(a)"
   ]
  },
  {
   "cell_type": "code",
   "execution_count": 25,
   "id": "3a14f149",
   "metadata": {},
   "outputs": [
    {
     "data": {
      "text/plain": [
       "[10, 14, 16, 17, 19]"
      ]
     },
     "execution_count": 25,
     "metadata": {},
     "output_type": "execute_result"
    }
   ],
   "source": [
    "merge_sort(a)"
   ]
  },
  {
   "cell_type": "code",
   "execution_count": 26,
   "id": "e8810b0e",
   "metadata": {},
   "outputs": [],
   "source": [
    "# Optimized code for merge sort which reduces the space complexity to O(n)"
   ]
  },
  {
   "cell_type": "code",
   "execution_count": 18,
   "id": "b0fc027a",
   "metadata": {},
   "outputs": [],
   "source": [
    "def merge_sorted(arr1,arr2,arr):\n",
    "    i = 0\n",
    "    j = 0\n",
    "    k = 0\n",
    "    \n",
    "    while i < len(arr1) and j < len(arr2):\n",
    "        if arr1[i] < arr2[j]:\n",
    "            arr[k] = arr1[i]\n",
    "            i = i + 1\n",
    "        else:\n",
    "            arr[k] = arr2[j]\n",
    "            j = j + 1 \n",
    "        k = k + 1\n",
    "    while i < len(arr1):\n",
    "        arr[k] = arr1[i]\n",
    "        i = i + 1\n",
    "        k = k + 1\n",
    "    while j < len(arr2):\n",
    "        arr[k] = arr2[j]\n",
    "        j = j + 1\n",
    "        k = k + 1\n",
    "    return"
   ]
  },
  {
   "cell_type": "code",
   "execution_count": 19,
   "id": "a03f9ec7",
   "metadata": {},
   "outputs": [],
   "source": [
    "def merge_sort(arr):\n",
    "    \n",
    "    if len(arr) == 1:\n",
    "        return arr\n",
    "    mid = len(arr) // 2\n",
    "        \n",
    "    left = arr[:mid]\n",
    "    right = arr[mid:]\n",
    "        \n",
    "    merge_sort(left)\n",
    "    merge_sort(right)\n",
    "        \n",
    "    return merge_sorted(left,right,arr)"
   ]
  },
  {
   "cell_type": "code",
   "execution_count": 20,
   "id": "2a3b9990",
   "metadata": {},
   "outputs": [
    {
     "name": "stdout",
     "output_type": "stream",
     "text": [
      "[75, 74, 98, 99, 10, 13, 53, 7, 59, 51]\n"
     ]
    }
   ],
   "source": [
    "import random\n",
    "a = random.sample(range(0,100),10)\n",
    "print(a)"
   ]
  },
  {
   "cell_type": "code",
   "execution_count": 23,
   "id": "b4f1cf30",
   "metadata": {},
   "outputs": [
    {
     "name": "stdout",
     "output_type": "stream",
     "text": [
      "[7, 10, 13, 51, 53, 59, 74, 75, 98, 99]\n"
     ]
    }
   ],
   "source": [
    "merge_sort(a)\n",
    "print(a)"
   ]
  },
  {
   "cell_type": "code",
   "execution_count": null,
   "id": "2d96499f",
   "metadata": {},
   "outputs": [],
   "source": []
  }
 ],
 "metadata": {
  "kernelspec": {
   "display_name": "Python 3 (ipykernel)",
   "language": "python",
   "name": "python3"
  },
  "language_info": {
   "codemirror_mode": {
    "name": "ipython",
    "version": 3
   },
   "file_extension": ".py",
   "mimetype": "text/x-python",
   "name": "python",
   "nbconvert_exporter": "python",
   "pygments_lexer": "ipython3",
   "version": "3.9.13"
  }
 },
 "nbformat": 4,
 "nbformat_minor": 5
}
