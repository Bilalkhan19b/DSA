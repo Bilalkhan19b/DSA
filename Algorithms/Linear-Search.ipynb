{
 "cells": [
  {
   "cell_type": "markdown",
   "id": "59f0caf0",
   "metadata": {},
   "source": [
    "### Linear Search / Brute Force\n",
    "- Time complexity --> O(n)\n",
    "- No sorting required"
   ]
  },
  {
   "cell_type": "code",
   "execution_count": 19,
   "id": "02ed60a1",
   "metadata": {},
   "outputs": [],
   "source": [
    "def linear_search(arr,item):\n",
    "    for i in range(len(arr)):\n",
    "        if arr[i] == item:\n",
    "            return i\n",
    "    return \"Not present\""
   ]
  },
  {
   "cell_type": "code",
   "execution_count": 20,
   "id": "e4417cb7",
   "metadata": {},
   "outputs": [],
   "source": [
    "arr = [5,100,67,34,11,99,46,77,22]"
   ]
  },
  {
   "cell_type": "code",
   "execution_count": 21,
   "id": "72395f46",
   "metadata": {},
   "outputs": [
    {
     "data": {
      "text/plain": [
       "8"
      ]
     },
     "execution_count": 21,
     "metadata": {},
     "output_type": "execute_result"
    }
   ],
   "source": [
    "linear_search(arr,22)"
   ]
  },
  {
   "cell_type": "code",
   "execution_count": 22,
   "id": "24ddfd86",
   "metadata": {},
   "outputs": [
    {
     "data": {
      "text/plain": [
       "0"
      ]
     },
     "execution_count": 22,
     "metadata": {},
     "output_type": "execute_result"
    }
   ],
   "source": [
    "linear_search(arr,5)"
   ]
  },
  {
   "cell_type": "code",
   "execution_count": 23,
   "id": "98154921",
   "metadata": {},
   "outputs": [
    {
     "data": {
      "text/plain": [
       "1"
      ]
     },
     "execution_count": 23,
     "metadata": {},
     "output_type": "execute_result"
    }
   ],
   "source": [
    "linear_search(arr,100)"
   ]
  },
  {
   "cell_type": "code",
   "execution_count": 18,
   "id": "a5ddee99",
   "metadata": {},
   "outputs": [
    {
     "data": {
      "text/plain": [
       "'Not present'"
      ]
     },
     "execution_count": 18,
     "metadata": {},
     "output_type": "execute_result"
    }
   ],
   "source": [
    "linear_search(arr,12)"
   ]
  }
 ],
 "metadata": {
  "kernelspec": {
   "display_name": "Python 3 (ipykernel)",
   "language": "python",
   "name": "python3"
  },
  "language_info": {
   "codemirror_mode": {
    "name": "ipython",
    "version": 3
   },
   "file_extension": ".py",
   "mimetype": "text/x-python",
   "name": "python",
   "nbconvert_exporter": "python",
   "pygments_lexer": "ipython3",
   "version": "3.9.13"
  }
 },
 "nbformat": 4,
 "nbformat_minor": 5
}
