{
 "cells": [
  {
   "cell_type": "markdown",
   "id": "0c1eff45",
   "metadata": {},
   "source": [
    "### Bubble Sort\n",
    "- Worst case Time complexity -->  O(n^2)\n",
    "- Best case Time complexity --> O(n^2)\n",
    "- Space complexity --> O(1)\n",
    "- Stable --> Yes\n",
    "- No of passes --> n-1 (where n = len(arr))\n",
    "- No of comparisons --> n^2"
   ]
  },
  {
   "cell_type": "code",
   "execution_count": 3,
   "id": "0a99fb18",
   "metadata": {},
   "outputs": [],
   "source": [
    "def bubble_sort(arr):\n",
    "    # for passes\n",
    "    for i in range(len(arr) - 1):\n",
    "        # for comparisons\n",
    "        for j in range(len(arr) - 1 - i):\n",
    "            # checking if next element is greater\n",
    "            if arr[j] > arr[j+1]:\n",
    "                # swapping with next element\n",
    "                arr[j],arr[j+1] = arr[j+1],arr[j]\n",
    "    print(arr)"
   ]
  },
  {
   "cell_type": "code",
   "execution_count": 4,
   "id": "5dcdcb30",
   "metadata": {},
   "outputs": [
    {
     "name": "stdout",
     "output_type": "stream",
     "text": [
      "[2, 12, 23, 34, 45, 98]\n"
     ]
    }
   ],
   "source": [
    "bubble_sort([23,45,12,2,98,34])"
   ]
  },
  {
   "cell_type": "markdown",
   "id": "dbd48512",
   "metadata": {},
   "source": [
    "### Adaptive Bubble Sort\n",
    "- Worst case Time complexity --> O(n^2)\n",
    "- Best case Time complexity --> O(n)\n",
    "- Adaptive --> Yes\n",
    "- Stable --> Yes"
   ]
  },
  {
   "cell_type": "code",
   "execution_count": 19,
   "id": "f78fc720",
   "metadata": {},
   "outputs": [],
   "source": [
    "def bubble_sort(arr):\n",
    "    for i in range(len(arr) - 1):\n",
    "        flag = 0\n",
    "        for j in range(len(arr) - 1 - i):\n",
    "            if arr[j] > arr[j+1]:\n",
    "                arr[j],arr[j+1] = arr[j+1],arr[j]\n",
    "                flag = 1 \n",
    "        if flag == 0:\n",
    "            break\n",
    "    print(arr)"
   ]
  },
  {
   "cell_type": "code",
   "execution_count": 4,
   "id": "fc44d56a",
   "metadata": {},
   "outputs": [
    {
     "name": "stdout",
     "output_type": "stream",
     "text": [
      "[1, 2, 3, 4, 5]\n"
     ]
    }
   ],
   "source": [
    "bubble_sort([2,1,3,4,5])"
   ]
  },
  {
   "cell_type": "code",
   "execution_count": 21,
   "id": "7d5d9555",
   "metadata": {},
   "outputs": [
    {
     "name": "stdout",
     "output_type": "stream",
     "text": [
      "[3, 13, 33, 39, 45, 47, 53, 63, 89, 97]\n"
     ]
    }
   ],
   "source": [
    "b = [13, 33, 89, 63, 3, 45, 47, 97, 39,53]\n",
    "bubble_sort(b)"
   ]
  },
  {
   "cell_type": "code",
   "execution_count": null,
   "id": "8a6ec273",
   "metadata": {},
   "outputs": [],
   "source": []
  }
 ],
 "metadata": {
  "kernelspec": {
   "display_name": "Python 3 (ipykernel)",
   "language": "python",
   "name": "python3"
  },
  "language_info": {
   "codemirror_mode": {
    "name": "ipython",
    "version": 3
   },
   "file_extension": ".py",
   "mimetype": "text/x-python",
   "name": "python",
   "nbconvert_exporter": "python",
   "pygments_lexer": "ipython3",
   "version": "3.9.13"
  }
 },
 "nbformat": 4,
 "nbformat_minor": 5
}
