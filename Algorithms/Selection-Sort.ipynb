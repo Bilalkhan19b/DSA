{
 "cells": [
  {
   "cell_type": "markdown",
   "id": "9ac2aa34",
   "metadata": {},
   "source": [
    "### Selection Sort\n",
    "- Time complexity in best,worst,average case --> O(n^2)\n",
    "- Space complexity --> O(1)\n",
    "- No of passes --> n-1\n",
    "- No of comparisons --> n^2\n",
    "- No of swaps --> n-1\n",
    "- Adaptive --> No\n",
    "- Stable --> No\n",
    "- Less no of swapping than bubble sort"
   ]
  },
  {
   "cell_type": "code",
   "execution_count": 16,
   "id": "4a49a53e",
   "metadata": {},
   "outputs": [],
   "source": [
    "def selection_sort(arr):\n",
    "    for i in range(len(arr)-1):\n",
    "        min = i\n",
    "        for j in range(i+1,len(arr)):\n",
    "            if arr[j]<arr[min]:\n",
    "                min = j    \n",
    "        arr[i],arr[min] = arr[min],arr[i]\n",
    "    return arr"
   ]
  },
  {
   "cell_type": "code",
   "execution_count": 17,
   "id": "02fb3000",
   "metadata": {},
   "outputs": [
    {
     "data": {
      "text/plain": [
       "[9, 12, 23, 56, 98]"
      ]
     },
     "execution_count": 17,
     "metadata": {},
     "output_type": "execute_result"
    }
   ],
   "source": [
    "selection_sort([23,56,12,9,98])"
   ]
  },
  {
   "cell_type": "code",
   "execution_count": 18,
   "id": "36ee3005",
   "metadata": {},
   "outputs": [],
   "source": [
    "# Debugging selection sort using print"
   ]
  },
  {
   "cell_type": "code",
   "execution_count": 19,
   "id": "2b5300ab",
   "metadata": {},
   "outputs": [],
   "source": [
    "def selection_sort(arr):\n",
    "    for i in range(len(arr)-1):\n",
    "        print(\"Pass\",i+1)\n",
    "        min = i\n",
    "        print(\"Current min is\",arr[min])\n",
    "        for j in range(i+1,len(arr)):\n",
    "            print(\"Current item under observation is\",arr[j])\n",
    "            if arr[j]<arr[min]:\n",
    "                print(\"Current item is lass than min\")\n",
    "                min = j\n",
    "                print(\"Now the min has become\",arr[min])\n",
    "        arr[i],arr[min] = arr[min],arr[i]\n",
    "        print(arr)\n",
    "        print(\"*\"*50)\n",
    "    return arr"
   ]
  },
  {
   "cell_type": "code",
   "execution_count": 20,
   "id": "ef5f6ad6",
   "metadata": {},
   "outputs": [
    {
     "name": "stdout",
     "output_type": "stream",
     "text": [
      "Pass 1\n",
      "Current min is 23\n",
      "Current item under observation is 56\n",
      "Current item under observation is 12\n",
      "Current item is lass than min\n",
      "Now the min has become 12\n",
      "Current item under observation is 9\n",
      "Current item is lass than min\n",
      "Now the min has become 9\n",
      "Current item under observation is 98\n",
      "[9, 56, 12, 23, 98]\n",
      "**************************************************\n",
      "Pass 2\n",
      "Current min is 56\n",
      "Current item under observation is 12\n",
      "Current item is lass than min\n",
      "Now the min has become 12\n",
      "Current item under observation is 23\n",
      "Current item under observation is 98\n",
      "[9, 12, 56, 23, 98]\n",
      "**************************************************\n",
      "Pass 3\n",
      "Current min is 56\n",
      "Current item under observation is 23\n",
      "Current item is lass than min\n",
      "Now the min has become 23\n",
      "Current item under observation is 98\n",
      "[9, 12, 23, 56, 98]\n",
      "**************************************************\n",
      "Pass 4\n",
      "Current min is 56\n",
      "Current item under observation is 98\n",
      "[9, 12, 23, 56, 98]\n",
      "**************************************************\n"
     ]
    },
    {
     "data": {
      "text/plain": [
       "[9, 12, 23, 56, 98]"
      ]
     },
     "execution_count": 20,
     "metadata": {},
     "output_type": "execute_result"
    }
   ],
   "source": [
    "selection_sort([23,56,12,9,98])"
   ]
  },
  {
   "cell_type": "code",
   "execution_count": null,
   "id": "f8b4d7a7",
   "metadata": {},
   "outputs": [],
   "source": []
  }
 ],
 "metadata": {
  "kernelspec": {
   "display_name": "Python 3 (ipykernel)",
   "language": "python",
   "name": "python3"
  },
  "language_info": {
   "codemirror_mode": {
    "name": "ipython",
    "version": 3
   },
   "file_extension": ".py",
   "mimetype": "text/x-python",
   "name": "python",
   "nbconvert_exporter": "python",
   "pygments_lexer": "ipython3",
   "version": "3.9.13"
  }
 },
 "nbformat": 4,
 "nbformat_minor": 5
}
