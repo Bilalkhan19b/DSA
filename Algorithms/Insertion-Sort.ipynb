{
 "cells": [
  {
   "cell_type": "markdown",
   "id": "e0fab1a2",
   "metadata": {},
   "source": [
    "### Insertion Sort\n",
    "- Time complexity => "
   ]
  },
  {
   "cell_type": "code",
   "execution_count": 1,
   "id": "ab36df6f",
   "metadata": {},
   "outputs": [],
   "source": [
    "def insertion_sort(arr):\n",
    "    \n",
    "    for i in range(1,len(arr)):\n",
    "        \n",
    "        while arr[i-1] > arr[i] and i > 0:\n",
    "            \n",
    "            arr[i],arr[i-1] = arr[i-1],arr[i]\n",
    "            i = i - 1\n",
    "            \n",
    "    return arr\n",
    "\n",
    "insertion_sort([2,5,1,3,8,4,9])"
   ]
  },
  {
   "cell_type": "code",
   "execution_count": 2,
   "id": "e11764db",
   "metadata": {},
   "outputs": [
    {
     "data": {
      "text/plain": [
       "[1, 2, 3, 4, 5, 8, 9]"
      ]
     },
     "execution_count": 2,
     "metadata": {},
     "output_type": "execute_result"
    }
   ],
   "source": [
    "insertion_sort([2,5,1,3,8,4,9])"
   ]
  },
  {
   "cell_type": "code",
   "execution_count": null,
   "id": "b535884b",
   "metadata": {},
   "outputs": [],
   "source": []
  }
 ],
 "metadata": {
  "kernelspec": {
   "display_name": "Python 3 (ipykernel)",
   "language": "python",
   "name": "python3"
  },
  "language_info": {
   "codemirror_mode": {
    "name": "ipython",
    "version": 3
   },
   "file_extension": ".py",
   "mimetype": "text/x-python",
   "name": "python",
   "nbconvert_exporter": "python",
   "pygments_lexer": "ipython3",
   "version": "3.9.13"
  }
 },
 "nbformat": 4,
 "nbformat_minor": 5
}
