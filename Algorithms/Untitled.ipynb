{
 "cells": [
  {
   "cell_type": "code",
   "execution_count": null,
   "id": "29baa80b",
   "metadata": {},
   "outputs": [],
   "source": [
    "# 5 oct 2023"
   ]
  },
  {
   "cell_type": "code",
   "execution_count": 5,
   "id": "a13b78ac",
   "metadata": {},
   "outputs": [],
   "source": [
    "def merge_sorted(arr1,arr2,arr):\n",
    "    \n",
    "    i=0\n",
    "    j=0\n",
    "    k=0\n",
    "    \n",
    "    while i< len(arr1) and j < len(arr2):\n",
    "        if arr1[i] < arr2[j]:\n",
    "            arr[k] = arr1[i]\n",
    "            i = i+1\n",
    "        else:\n",
    "            arr[k] = arr2[j]\n",
    "            j = j+1\n",
    "        k = k + 1\n",
    "        \n",
    "    while i < len(arr1):\n",
    "        arr[k] = arr1[i]\n",
    "        i = i + 1\n",
    "        k = k + 1\n",
    "            \n",
    "    while j < len(arr2):\n",
    "        arr[k] = arr2[j]\n",
    "        j = j + 1\n",
    "        k = k + 1\n",
    "    return"
   ]
  },
  {
   "cell_type": "code",
   "execution_count": 7,
   "id": "1fcf6b0c",
   "metadata": {},
   "outputs": [],
   "source": [
    "def merge_sort(arr):\n",
    "    if len(arr) == 1:\n",
    "        return arr\n",
    "    else:\n",
    "        mid = len(arr)//2\n",
    "        \n",
    "        left = arr[:mid]\n",
    "        right = arr[mid:]\n",
    "        \n",
    "        merge_sort(left)\n",
    "        merge_sort(right)\n",
    "        \n",
    "        merge_sorted(left,right,arr)"
   ]
  },
  {
   "cell_type": "code",
   "execution_count": 16,
   "id": "9e088b4b",
   "metadata": {},
   "outputs": [
    {
     "name": "stdout",
     "output_type": "stream",
     "text": [
      "[87, 25, 48, 8, 88, 37, 55, 97, 18, 54, 85, 96, 57, 62, 58, 63, 32, 45, 16, 68]\n"
     ]
    }
   ],
   "source": [
    "import random\n",
    "a = random.sample(range(1,100),20)\n",
    "print(a)"
   ]
  },
  {
   "cell_type": "code",
   "execution_count": 17,
   "id": "079ae734",
   "metadata": {},
   "outputs": [],
   "source": [
    "merge_sort(a)"
   ]
  },
  {
   "cell_type": "code",
   "execution_count": 18,
   "id": "94d31f29",
   "metadata": {},
   "outputs": [
    {
     "name": "stdout",
     "output_type": "stream",
     "text": [
      "[8, 16, 18, 25, 32, 37, 45, 48, 54, 55, 57, 58, 62, 63, 68, 85, 87, 88, 96, 97]\n"
     ]
    }
   ],
   "source": [
    "print(a)"
   ]
  },
  {
   "cell_type": "code",
   "execution_count": 32,
   "id": "c8eb3035",
   "metadata": {},
   "outputs": [],
   "source": [
    "def bubble_sort(arr):\n",
    "    \n",
    "    for i in range(len(arr)-1):\n",
    "        flag = 0\n",
    "        for j in range(len(arr)-1-i):\n",
    "            if arr[j] > arr[j+1]:\n",
    "                arr[j],arr[j+1] = arr[j+1],arr[j]\n",
    "                flag = 1\n",
    "        if flag == 0:\n",
    "            break\n",
    "    return arr\n",
    "                "
   ]
  },
  {
   "cell_type": "code",
   "execution_count": 33,
   "id": "656a5159",
   "metadata": {},
   "outputs": [],
   "source": [
    "b = random.sample(range(1,100),10)"
   ]
  },
  {
   "cell_type": "code",
   "execution_count": 34,
   "id": "67a683f7",
   "metadata": {},
   "outputs": [
    {
     "name": "stdout",
     "output_type": "stream",
     "text": [
      "[92, 17, 44, 91, 68, 95, 60, 12, 24, 49]\n"
     ]
    }
   ],
   "source": [
    "print(b)"
   ]
  },
  {
   "cell_type": "code",
   "execution_count": 35,
   "id": "87d4d304",
   "metadata": {},
   "outputs": [
    {
     "data": {
      "text/plain": [
       "[12, 17, 24, 44, 49, 60, 68, 91, 92, 95]"
      ]
     },
     "execution_count": 35,
     "metadata": {},
     "output_type": "execute_result"
    }
   ],
   "source": [
    "bubble_sort(b)"
   ]
  },
  {
   "cell_type": "code",
   "execution_count": 38,
   "id": "1935999b",
   "metadata": {},
   "outputs": [],
   "source": [
    "def selection_sort(arr):\n",
    "    for i in range(len(arr)-1):\n",
    "        min = i\n",
    "        for j in range(i+1,len(arr)):\n",
    "            if arr[j] < arr[min]:\n",
    "                min = j\n",
    "        arr[i],arr[min] = arr[min],arr[i]\n",
    "    return arr       "
   ]
  },
  {
   "cell_type": "code",
   "execution_count": 40,
   "id": "c2f3394b",
   "metadata": {},
   "outputs": [
    {
     "name": "stdout",
     "output_type": "stream",
     "text": [
      "[71, 46, 75, 3, 62, 78, 53, 43, 82, 61]\n"
     ]
    }
   ],
   "source": [
    "c = random.sample(range(1,100),10)\n",
    "print(c)"
   ]
  },
  {
   "cell_type": "code",
   "execution_count": 41,
   "id": "a59f274e",
   "metadata": {},
   "outputs": [
    {
     "data": {
      "text/plain": [
       "[3, 43, 46, 53, 61, 62, 71, 75, 78, 82]"
      ]
     },
     "execution_count": 41,
     "metadata": {},
     "output_type": "execute_result"
    }
   ],
   "source": [
    "selection_sort(c)"
   ]
  },
  {
   "cell_type": "code",
   "execution_count": 45,
   "id": "e3a05a46",
   "metadata": {},
   "outputs": [],
   "source": [
    "def insertion_sort(arr):\n",
    "    for i in range(1,len(arr)):\n",
    "        while arr[i-1] > arr[i] and i>0:\n",
    "            arr[i-1],arr[i] = arr[i],arr[i-1]\n",
    "            i = i - 1\n",
    "    return arr"
   ]
  },
  {
   "cell_type": "code",
   "execution_count": 46,
   "id": "412dc553",
   "metadata": {},
   "outputs": [
    {
     "name": "stdout",
     "output_type": "stream",
     "text": [
      "[92, 1, 60, 56, 88, 59, 50, 22, 39, 13]\n"
     ]
    }
   ],
   "source": [
    "d = random.sample(range(1,100),10)\n",
    "print(d)"
   ]
  },
  {
   "cell_type": "code",
   "execution_count": 47,
   "id": "3955dc12",
   "metadata": {},
   "outputs": [
    {
     "data": {
      "text/plain": [
       "[1, 13, 22, 39, 50, 56, 59, 60, 88, 92]"
      ]
     },
     "execution_count": 47,
     "metadata": {},
     "output_type": "execute_result"
    }
   ],
   "source": [
    "insertion_sort(d)"
   ]
  },
  {
   "cell_type": "code",
   "execution_count": 48,
   "id": "77e61e97",
   "metadata": {},
   "outputs": [],
   "source": [
    "def quick_sort(arr):\n",
    "    if len(arr) <= 1:\n",
    "        return arr\n",
    "    else:\n",
    "        pivot = arr.pop()\n",
    "\n",
    "    items_greater = []\n",
    "    items_lower = []\n",
    "        \n",
    "    for i in arr:\n",
    "        if i < pivot:\n",
    "            items_lower.append(i)\n",
    "        else:\n",
    "            items_greater.append(i)\n",
    "            \n",
    "    return quick_sort(items_lower) + [pivot] + quick_sort(items_greater)\n",
    "        "
   ]
  },
  {
   "cell_type": "code",
   "execution_count": 49,
   "id": "c8b0d930",
   "metadata": {},
   "outputs": [
    {
     "name": "stdout",
     "output_type": "stream",
     "text": [
      "[48, 23, 88, 90, 22, 21, 54, 41, 93, 44]\n"
     ]
    }
   ],
   "source": [
    "e = random.sample(range(1,100),10)\n",
    "print(e)"
   ]
  },
  {
   "cell_type": "code",
   "execution_count": 50,
   "id": "523d0b59",
   "metadata": {},
   "outputs": [
    {
     "data": {
      "text/plain": [
       "[21, 22, 23, 41, 44, 48, 54, 88, 90, 93]"
      ]
     },
     "execution_count": 50,
     "metadata": {},
     "output_type": "execute_result"
    }
   ],
   "source": [
    "quick_sort(e)"
   ]
  },
  {
   "cell_type": "code",
   "execution_count": null,
   "id": "e4135e16",
   "metadata": {},
   "outputs": [],
   "source": [
    "# 6 oct 2023"
   ]
  },
  {
   "cell_type": "code",
   "execution_count": 4,
   "id": "cae685e4",
   "metadata": {},
   "outputs": [],
   "source": [
    "def insertion_sort(arr):\n",
    "    for i in range(1,len(arr)):\n",
    "        while arr[i-1] > arr[i] and i>0:\n",
    "            arr[i-1],arr[i] = arr[i],arr[i-1]\n",
    "            i = i - 1\n",
    "    return arr"
   ]
  },
  {
   "cell_type": "code",
   "execution_count": 5,
   "id": "0f615a33",
   "metadata": {},
   "outputs": [
    {
     "name": "stdout",
     "output_type": "stream",
     "text": [
      "[68, 91, 44, 54, 58, 30, 25, 89, 79, 39]\n"
     ]
    }
   ],
   "source": [
    "import random\n",
    "a = random.sample(range(1,100),10)\n",
    "print(a)"
   ]
  },
  {
   "cell_type": "code",
   "execution_count": 6,
   "id": "4d6da6c5",
   "metadata": {},
   "outputs": [
    {
     "data": {
      "text/plain": [
       "[25, 30, 39, 44, 54, 58, 68, 79, 89, 91]"
      ]
     },
     "execution_count": 6,
     "metadata": {},
     "output_type": "execute_result"
    }
   ],
   "source": [
    "insertion_sort(a)"
   ]
  },
  {
   "cell_type": "code",
   "execution_count": 7,
   "id": "d981a7ba",
   "metadata": {},
   "outputs": [],
   "source": [
    "def quick_sort(arr):\n",
    "    if len(arr)<=1:\n",
    "        return arr\n",
    "    else:\n",
    "        pivot = arr.pop()\n",
    "        \n",
    "    items_lower = []\n",
    "    items_greater = []\n",
    "    \n",
    "    for i in arr:\n",
    "        if i<pivot:\n",
    "            items_lower.append(i)\n",
    "        else:\n",
    "            items_greater.append(i)\n",
    "            \n",
    "    return quick_sort(items_lower)+[pivot]+quick_sort(items_greater)"
   ]
  },
  {
   "cell_type": "code",
   "execution_count": 8,
   "id": "7e6ebb38",
   "metadata": {},
   "outputs": [
    {
     "data": {
      "text/plain": [
       "[1, 2, 3, 4, 6, 9]"
      ]
     },
     "execution_count": 8,
     "metadata": {},
     "output_type": "execute_result"
    }
   ],
   "source": [
    "quick_sort([4,2,1,9,3,6])"
   ]
  },
  {
   "cell_type": "code",
   "execution_count": 15,
   "id": "e6d143ba",
   "metadata": {},
   "outputs": [],
   "source": [
    "def selection_sort(arr):\n",
    "    \n",
    "    for i in range(len(arr)-1):\n",
    "        min = i\n",
    "        \n",
    "        for j in range(i+1,len(arr)):\n",
    "            if arr[j]<arr[min]:\n",
    "                min = j\n",
    "                \n",
    "        arr[i],arr[min] = arr[min],arr[i]\n",
    "            \n",
    "    return arr\n",
    "                "
   ]
  },
  {
   "cell_type": "code",
   "execution_count": 16,
   "id": "c5ca1b69",
   "metadata": {},
   "outputs": [
    {
     "data": {
      "text/plain": [
       "[1, 2, 3, 5, 6, 8, 9]"
      ]
     },
     "execution_count": 16,
     "metadata": {},
     "output_type": "execute_result"
    }
   ],
   "source": [
    "selection_sort([5,2,1,9,6,3,8])"
   ]
  },
  {
   "cell_type": "code",
   "execution_count": 19,
   "id": "27d5ea5e",
   "metadata": {},
   "outputs": [],
   "source": [
    "def bubble_sort(arr):\n",
    "    for i in range(len(arr)-1):\n",
    "        flag = 0\n",
    "        for j in range(len(arr)-1-i):\n",
    "            if arr[j+1]<arr[j]:\n",
    "                arr[j+1],arr[j] = arr[j],arr[j+1]\n",
    "                flag = 1\n",
    "        if flag == 0:\n",
    "            break\n",
    "    return arr"
   ]
  },
  {
   "cell_type": "code",
   "execution_count": 20,
   "id": "a18eeb92",
   "metadata": {},
   "outputs": [
    {
     "data": {
      "text/plain": [
       "[1, 2, 3, 6, 8, 9]"
      ]
     },
     "execution_count": 20,
     "metadata": {},
     "output_type": "execute_result"
    }
   ],
   "source": [
    "bubble_sort([3,1,6,9,2,8])"
   ]
  },
  {
   "cell_type": "code",
   "execution_count": 22,
   "id": "ccad82d7",
   "metadata": {},
   "outputs": [],
   "source": [
    "def merge_sort(arr):\n",
    "    if len(arr) == 1:\n",
    "        return arr\n",
    "    else:\n",
    "        mid = len(arr)//2\n",
    "        \n",
    "        left = arr[:mid]\n",
    "        right = arr[mid:]\n",
    "        \n",
    "        merge_sort(left)\n",
    "        merge_sort(right)\n",
    "        \n",
    "        return merge_sorted(left,right,arr)\n",
    "    \n",
    "def merge_sorted(arr1,arr2,arr):\n",
    "    \n",
    "    i = 0\n",
    "    j = 0\n",
    "    k = 0\n",
    "    \n",
    "    while i<len(arr1) and j<len(arr2):\n",
    "        if arr1[i]<arr2[j]:\n",
    "            arr[k] = arr1[i]\n",
    "            i = i+1\n",
    "            \n",
    "        else:\n",
    "            arr[k] = arr2[j]\n",
    "            j = j+1\n",
    "            \n",
    "        k = k+1\n",
    "        \n",
    "    while i<len(arr1):\n",
    "        arr[k] = arr1[i]\n",
    "        i = i+1\n",
    "        k = k+1\n",
    "        \n",
    "    while j<len(arr2):\n",
    "        arr[k] = arr2[j]\n",
    "        j = j+1\n",
    "        k = k+1\n",
    "        \n",
    "    return"
   ]
  },
  {
   "cell_type": "code",
   "execution_count": 24,
   "id": "b1051edb",
   "metadata": {},
   "outputs": [
    {
     "name": "stdout",
     "output_type": "stream",
     "text": [
      "[1, 2, 2, 3, 3, 4, 6, 7, 8, 9, 9]\n"
     ]
    }
   ],
   "source": [
    "a=[6,1,4,2,9,7,3,3,2,9,8]\n",
    "merge_sort(a)\n",
    "print(a)"
   ]
  },
  {
   "cell_type": "code",
   "execution_count": null,
   "id": "ab05876a",
   "metadata": {},
   "outputs": [],
   "source": []
  }
 ],
 "metadata": {
  "kernelspec": {
   "display_name": "Python 3 (ipykernel)",
   "language": "python",
   "name": "python3"
  },
  "language_info": {
   "codemirror_mode": {
    "name": "ipython",
    "version": 3
   },
   "file_extension": ".py",
   "mimetype": "text/x-python",
   "name": "python",
   "nbconvert_exporter": "python",
   "pygments_lexer": "ipython3",
   "version": "3.9.13"
  }
 },
 "nbformat": 4,
 "nbformat_minor": 5
}
