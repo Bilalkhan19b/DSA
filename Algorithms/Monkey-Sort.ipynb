{
 "cells": [
  {
   "cell_type": "code",
   "execution_count": 1,
   "id": "d7c71299",
   "metadata": {},
   "outputs": [],
   "source": [
    "# function to check if the array is sorted "
   ]
  },
  {
   "cell_type": "code",
   "execution_count": 4,
   "id": "3eecb5ab",
   "metadata": {},
   "outputs": [],
   "source": [
    "def is_sorted(arr):\n",
    "    sort = True\n",
    "    for i in range(len(arr)-1):\n",
    "        if arr[i]>arr[i+1]:\n",
    "            sort = False \n",
    "    return sort"
   ]
  },
  {
   "cell_type": "code",
   "execution_count": 7,
   "id": "61e6e20a",
   "metadata": {},
   "outputs": [
    {
     "data": {
      "text/plain": [
       "False"
      ]
     },
     "execution_count": 7,
     "metadata": {},
     "output_type": "execute_result"
    }
   ],
   "source": [
    "is_sorted([5,4,3,2])"
   ]
  },
  {
   "cell_type": "markdown",
   "id": "4ca582d6",
   "metadata": {},
   "source": [
    "### Monkey Sort\n",
    "- Time complexity --> O(infinte)"
   ]
  },
  {
   "cell_type": "code",
   "execution_count": null,
   "id": "8a7b40c3",
   "metadata": {},
   "outputs": [],
   "source": [
    "# implementing monkey sort"
   ]
  },
  {
   "cell_type": "code",
   "execution_count": 13,
   "id": "24e0e6a7",
   "metadata": {},
   "outputs": [],
   "source": [
    "import random\n",
    "\n",
    "def monkey_sort(arr):\n",
    "    while not is_sorted(arr):\n",
    "        random.shuffle(arr)\n",
    "        print(arr)\n",
    "    print(arr)"
   ]
  },
  {
   "cell_type": "code",
   "execution_count": 14,
   "id": "d78acdfc",
   "metadata": {},
   "outputs": [],
   "source": [
    "arr = [2,4,1,3,5]"
   ]
  },
  {
   "cell_type": "code",
   "execution_count": 15,
   "id": "759e6f66",
   "metadata": {},
   "outputs": [
    {
     "name": "stdout",
     "output_type": "stream",
     "text": [
      "[5, 2, 1, 3, 4]\n",
      "[3, 1, 5, 4, 2]\n",
      "[4, 3, 2, 1, 5]\n",
      "[3, 1, 2, 4, 5]\n",
      "[1, 5, 2, 3, 4]\n",
      "[1, 4, 3, 2, 5]\n",
      "[4, 2, 5, 3, 1]\n",
      "[4, 3, 2, 1, 5]\n",
      "[4, 1, 2, 3, 5]\n",
      "[4, 5, 1, 2, 3]\n",
      "[3, 4, 2, 5, 1]\n",
      "[2, 3, 5, 1, 4]\n",
      "[5, 3, 4, 2, 1]\n",
      "[5, 2, 4, 3, 1]\n",
      "[2, 5, 4, 3, 1]\n",
      "[5, 3, 1, 2, 4]\n",
      "[4, 5, 3, 1, 2]\n",
      "[3, 5, 2, 4, 1]\n",
      "[4, 2, 1, 5, 3]\n",
      "[3, 5, 1, 2, 4]\n",
      "[5, 3, 1, 2, 4]\n",
      "[4, 2, 1, 5, 3]\n",
      "[3, 2, 4, 1, 5]\n",
      "[4, 1, 2, 5, 3]\n",
      "[1, 2, 3, 4, 5]\n",
      "[1, 2, 3, 4, 5]\n"
     ]
    }
   ],
   "source": [
    "monkey_sort(arr)"
   ]
  },
  {
   "cell_type": "code",
   "execution_count": null,
   "id": "1d02a715",
   "metadata": {},
   "outputs": [],
   "source": []
  }
 ],
 "metadata": {
  "kernelspec": {
   "display_name": "Python 3 (ipykernel)",
   "language": "python",
   "name": "python3"
  },
  "language_info": {
   "codemirror_mode": {
    "name": "ipython",
    "version": 3
   },
   "file_extension": ".py",
   "mimetype": "text/x-python",
   "name": "python",
   "nbconvert_exporter": "python",
   "pygments_lexer": "ipython3",
   "version": "3.9.13"
  }
 },
 "nbformat": 4,
 "nbformat_minor": 5
}
