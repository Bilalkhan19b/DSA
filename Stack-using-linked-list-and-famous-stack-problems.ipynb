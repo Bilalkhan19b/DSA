{
 "cells": [
  {
   "cell_type": "markdown",
   "id": "dd19f1f3",
   "metadata": {},
   "source": [
    "# Stack using Linked List"
   ]
  },
  {
   "cell_type": "code",
   "execution_count": 116,
   "id": "fc65277e",
   "metadata": {},
   "outputs": [],
   "source": [
    "class Node:\n",
    "    \n",
    "    def __init__(self,value):\n",
    "        self.data = value\n",
    "        self.next = None"
   ]
  },
  {
   "cell_type": "code",
   "execution_count": 117,
   "id": "4bcac37f",
   "metadata": {},
   "outputs": [],
   "source": [
    "class Stack:\n",
    "    \n",
    "    def __init__(self):\n",
    "        self.top = None\n",
    "        \n",
    "    def is_empty(self):\n",
    "        return self.top == None\n",
    "    \n",
    "    def push(self,value):\n",
    "        new_node = Node(value)\n",
    "        \n",
    "        new_node.next = self.top\n",
    "        self.top = new_node\n",
    "        \n",
    "    def pop(self):\n",
    "        if(self.is_empty()):\n",
    "            return \"Stack is Empty\"\n",
    "        else:\n",
    "            data = self.top.data\n",
    "            self.top = self.top.next\n",
    "            return data\n",
    "        \n",
    "    def traverse(self):\n",
    "        curr = self.top\n",
    "        \n",
    "        while curr != None:\n",
    "            print(curr.data)\n",
    "            curr = curr.next\n",
    "            \n",
    "    def peek(self):\n",
    "        if(self.is_empty()):\n",
    "            return \"Stack is Empty\"\n",
    "        else:\n",
    "            return self.top.data\n",
    "        \n",
    "    def size(self):\n",
    "        count = 0\n",
    "        curr = self.top\n",
    "        \n",
    "        while curr != None:\n",
    "            count += 1\n",
    "            curr = curr.next\n",
    "        \n",
    "        return count"
   ]
  },
  {
   "cell_type": "code",
   "execution_count": 99,
   "id": "1515a7c4",
   "metadata": {},
   "outputs": [],
   "source": [
    "s=Stack()"
   ]
  },
  {
   "cell_type": "code",
   "execution_count": 100,
   "id": "85e9bb7e",
   "metadata": {},
   "outputs": [
    {
     "data": {
      "text/plain": [
       "True"
      ]
     },
     "execution_count": 100,
     "metadata": {},
     "output_type": "execute_result"
    }
   ],
   "source": [
    "s.is_empty()"
   ]
  },
  {
   "cell_type": "code",
   "execution_count": 101,
   "id": "7b0ff8c7",
   "metadata": {},
   "outputs": [],
   "source": [
    "s.push(2)\n",
    "s.push(4)\n",
    "s.push(5)"
   ]
  },
  {
   "cell_type": "code",
   "execution_count": 102,
   "id": "f9d7f816",
   "metadata": {},
   "outputs": [
    {
     "name": "stdout",
     "output_type": "stream",
     "text": [
      "5\n",
      "4\n",
      "2\n"
     ]
    }
   ],
   "source": [
    "s.traverse()"
   ]
  },
  {
   "cell_type": "code",
   "execution_count": 103,
   "id": "20229f82",
   "metadata": {},
   "outputs": [
    {
     "data": {
      "text/plain": [
       "5"
      ]
     },
     "execution_count": 103,
     "metadata": {},
     "output_type": "execute_result"
    }
   ],
   "source": [
    "s.peek()"
   ]
  },
  {
   "cell_type": "code",
   "execution_count": 104,
   "id": "e3e1cc80",
   "metadata": {},
   "outputs": [
    {
     "data": {
      "text/plain": [
       "5"
      ]
     },
     "execution_count": 104,
     "metadata": {},
     "output_type": "execute_result"
    }
   ],
   "source": [
    "s.pop()"
   ]
  },
  {
   "cell_type": "code",
   "execution_count": 105,
   "id": "99a2d195",
   "metadata": {},
   "outputs": [
    {
     "data": {
      "text/plain": [
       "2"
      ]
     },
     "execution_count": 105,
     "metadata": {},
     "output_type": "execute_result"
    }
   ],
   "source": [
    "s.size()"
   ]
  },
  {
   "cell_type": "markdown",
   "id": "c005399a",
   "metadata": {},
   "source": [
    "#  Famous Stack Problems"
   ]
  },
  {
   "cell_type": "code",
   "execution_count": 106,
   "id": "6a100cc4",
   "metadata": {},
   "outputs": [],
   "source": [
    "# reverse the string using stack\n",
    "def reverse_string(text):\n",
    "    \n",
    "    s = Stack()\n",
    "    \n",
    "    for i in text:\n",
    "        s.push(i)\n",
    "        \n",
    "    res = \"\"\n",
    "    \n",
    "    while(not s.is_empty()):\n",
    "        res = res + s.pop()\n",
    "    \n",
    "    print(res)"
   ]
  },
  {
   "cell_type": "code",
   "execution_count": 107,
   "id": "764ba599",
   "metadata": {},
   "outputs": [
    {
     "name": "stdout",
     "output_type": "stream",
     "text": [
      "olleh\n"
     ]
    }
   ],
   "source": [
    "reverse_string(\"hello\")"
   ]
  },
  {
   "cell_type": "code",
   "execution_count": 110,
   "id": "c959b9db",
   "metadata": {},
   "outputs": [],
   "source": [
    "# impliment undo and redo operations\n",
    "def text_editor(text,pattern):\n",
    "    \n",
    "    u = Stack()\n",
    "    r = Stack()\n",
    "    \n",
    "    for i in text:\n",
    "        u.push(i)\n",
    "        \n",
    "    for i in pattern:\n",
    "        \n",
    "        if i == \"u\":\n",
    "            data = u.pop()\n",
    "            r.push(data)\n",
    "            \n",
    "        else:\n",
    "            data = r.pop()\n",
    "            u.push(data)\n",
    "        \n",
    "    result = \"\"\n",
    "    \n",
    "    while(not u.is_empty()):\n",
    "        result = u.pop() + result\n",
    "    \n",
    "    print(result)"
   ]
  },
  {
   "cell_type": "code",
   "execution_count": 111,
   "id": "1877b29a",
   "metadata": {},
   "outputs": [
    {
     "name": "stdout",
     "output_type": "stream",
     "text": [
      "Karac\n"
     ]
    }
   ],
   "source": [
    "text_editor(\"Karachi\",\"uuur\")"
   ]
  },
  {
   "cell_type": "code",
   "execution_count": 118,
   "id": "c76c4128",
   "metadata": {},
   "outputs": [],
   "source": [
    "# celebrity problem\n",
    "L = [\n",
    "    [0,0,1,1],\n",
    "    [0,0,1,0],\n",
    "    [0,0,0,0],\n",
    "    [0,0,1,0]\n",
    "]"
   ]
  },
  {
   "cell_type": "code",
   "execution_count": 131,
   "id": "4327efb1",
   "metadata": {},
   "outputs": [],
   "source": [
    "def find_the_celeb(L):\n",
    "    s = Stack()\n",
    "    for i in range(len(L)):\n",
    "        s.push(i)\n",
    "        \n",
    "    while s.size() >= 2:\n",
    "        i = s.pop()\n",
    "        j = s.pop()\n",
    "        \n",
    "        if L[i][j] == 0:\n",
    "            # j is not a celeb\n",
    "            s.push(i)\n",
    "        else:\n",
    "            # i is not a celeb\n",
    "            s.push(j)\n",
    "            \n",
    "    # yahan tk mjhe pata chl gya k baki sb celeb nhi hen ab ye check krna hy k 2 celeb hy ya nhi       \n",
    "    celeb = s.pop() # is k andr 2 hy\n",
    "    \n",
    "    for i in range(len(L)):\n",
    "        \n",
    "        if i != celeb:\n",
    "            if L[i][celeb] == 0 or L[celeb][i] == 1:\n",
    "                print(\"No one is a celebrity\")\n",
    "                return\n",
    "            \n",
    "    print(\"The celebrity is\",celeb)\n",
    "                "
   ]
  },
  {
   "cell_type": "code",
   "execution_count": 132,
   "id": "034a6c86",
   "metadata": {},
   "outputs": [
    {
     "name": "stdout",
     "output_type": "stream",
     "text": [
      "The celebrity is 2\n"
     ]
    }
   ],
   "source": [
    "find_the_celeb(L)"
   ]
  },
  {
   "cell_type": "code",
   "execution_count": 137,
   "id": "b2faf85d",
   "metadata": {},
   "outputs": [
    {
     "name": "stdout",
     "output_type": "stream",
     "text": [
      "True\n",
      "True\n",
      "False\n",
      "False\n",
      "True\n"
     ]
    }
   ],
   "source": [
    "# balanced paranthesis problem\n",
    "\n",
    "def is_balanced(expression):\n",
    "    stack = Stack()  # Create an instance of the Stack class\n",
    "\n",
    "    # Define a dictionary to map closing brackets to their corresponding opening brackets\n",
    "    brackets_map = {')': '(', '}': '{', ']': '['}\n",
    "\n",
    "    # Iterate through each character in the expression\n",
    "    for i in expression:\n",
    "        # If the character is an opening bracket, push it onto the stack\n",
    "        if i in '([{':\n",
    "            stack.push(i)\n",
    "        # If the character is a closing bracket\n",
    "        elif i in ')]}':\n",
    "            # Check if the stack is empty or if the top of the stack does not match the corresponding opening bracket\n",
    "            if stack.is_empty() or stack.peek() != brackets_map[i]:\n",
    "                return False\n",
    "            # If it matches, pop the top element from the stack\n",
    "            stack.pop()\n",
    "\n",
    "    # If the stack is empty at the end, the expression is balanced\n",
    "    return stack.is_empty()\n",
    "\n",
    "# Test cases\n",
    "print(is_balanced(\"()\"))  # True\n",
    "print(is_balanced(\"()[]{}\"))  # True\n",
    "print(is_balanced(\"(]\"))  # False\n",
    "print(is_balanced(\"([)]\"))  # False\n",
    "print(is_balanced(\"{[]}\"))  # True"
   ]
  },
  {
   "cell_type": "code",
   "execution_count": 138,
   "id": "c09008b4",
   "metadata": {},
   "outputs": [
    {
     "name": "stdout",
     "output_type": "stream",
     "text": [
      "True\n",
      "True\n",
      "False\n",
      "False\n",
      "True\n"
     ]
    }
   ],
   "source": [
    "# balanced paranthesis problem\n",
    "def is_balanced(expression):\n",
    "    # Create an empty stack to store opening parentheses\n",
    "    stack = []\n",
    "\n",
    "    # Define a dictionary to map closing parentheses to their corresponding opening parentheses\n",
    "    parentheses_map = {')': '(', '}': '{', ']': '['}\n",
    "\n",
    "    # Iterate through each character in the expression\n",
    "    for char in expression:\n",
    "        # If the character is an opening parenthesis, push it onto the stack\n",
    "        if char in '([{':\n",
    "            stack.append(char)\n",
    "        # If the character is a closing parenthesis\n",
    "        elif char in ')]}':\n",
    "            # Check if the stack is empty, or if the top of the stack does not match the corresponding opening parenthesis\n",
    "            if not stack or stack[-1] != parentheses_map[char]:\n",
    "                return False\n",
    "            # If it matches, pop the top element from the stack\n",
    "            stack.pop()\n",
    "\n",
    "    # If the stack is empty at the end, the expression is balanced\n",
    "    return len(stack) == 0\n",
    "\n",
    "# Test cases\n",
    "print(is_balanced(\"()\"))  # True\n",
    "print(is_balanced(\"()[]{}\"))  # True\n",
    "print(is_balanced(\"(]\"))  # False\n",
    "print(is_balanced(\"([)]\"))  # False\n",
    "print(is_balanced(\"{[]}\"))  # True\n"
   ]
  }
 ],
 "metadata": {
  "kernelspec": {
   "display_name": "Python 3 (ipykernel)",
   "language": "python",
   "name": "python3"
  },
  "language_info": {
   "codemirror_mode": {
    "name": "ipython",
    "version": 3
   },
   "file_extension": ".py",
   "mimetype": "text/x-python",
   "name": "python",
   "nbconvert_exporter": "python",
   "pygments_lexer": "ipython3",
   "version": "3.9.13"
  }
 },
 "nbformat": 4,
 "nbformat_minor": 5
}
