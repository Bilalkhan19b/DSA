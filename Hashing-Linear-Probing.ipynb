{
 "cells": [
  {
   "cell_type": "markdown",
   "id": "f48f90e2",
   "metadata": {},
   "source": [
    "# Hashing\n",
    "## Open Addressing\n",
    "###  Linear Probing"
   ]
  },
  {
   "cell_type": "code",
   "execution_count": 7,
   "id": "67315fb3",
   "metadata": {},
   "outputs": [],
   "source": [
    "class Dictionary:\n",
    "    \n",
    "    def __init__(self,size):\n",
    "        self.size = size\n",
    "        # Initializing two arrays for keys and values of given size\n",
    "        self.slots = [None] * self.size\n",
    "        self.data = [None] * self.size\n",
    "        \n",
    "    def put(self,key,value):\n",
    "        hash_value = self.hash_function(key)\n",
    "        \n",
    "        if self.slots[hash_value] == None:\n",
    "            self.slots[hash_value] = key\n",
    "            self.data[hash_value] = value\n",
    "            \n",
    "        else:\n",
    "            \n",
    "            if self.slots[hash_value] == key:\n",
    "                self.data[hash_value] = value\n",
    "                \n",
    "            else:\n",
    "                new_hash_value = self.rehash(hash_value)\n",
    "                \n",
    "                while self.slots[new_hash_value] != None and self.slots[new_hash_value] != key:\n",
    "                    new_hash_value = self.rehash(new_hash_value)\n",
    "                \n",
    "                if self.slots[new_hash_value] == None:\n",
    "                    self.slots[new_hash_value] = key\n",
    "                    self.data[new_hash_value] = value\n",
    "                \n",
    "                else:\n",
    "                    self.data[new_hash_value] = value\n",
    "                        \n",
    "    def __setitem__(self,key,value):\n",
    "        self.put(key,value)\n",
    "    \n",
    "    def get(self,key):\n",
    "        start_position = self.hash_function(key)\n",
    "        current_position = start_position\n",
    "        \n",
    "        while self.slots[current_position] != None:\n",
    "            \n",
    "            if self.slots[current_position] == key:\n",
    "                return self.data[current_position]\n",
    "            \n",
    "            current_position = self.rehash(current_position)\n",
    "            \n",
    "            if current_position == start_position:\n",
    "                return \"Not found\"\n",
    "            \n",
    "            return \"None wala not found\"\n",
    "    \n",
    "    def __getitem__(self,key):\n",
    "        return self.get(key)\n",
    "\n",
    "    def __str__(self):\n",
    "        for i in range(len(self.slots)):\n",
    "            if self.slots[i] != None:\n",
    "                print(self.slots[i],\":\",self.data[i],end = \" \")\n",
    "            \n",
    "        return \"\"\n",
    "    \n",
    "    # rehashing\n",
    "    def rehash(self,old_hash):\n",
    "        return (old_hash + 1) % self.size\n",
    "        \n",
    "    def hash_function(self,key):\n",
    "        # hash function which returns index position where item should insert\n",
    "        return abs(hash(key)) % self.size\n",
    "        \n",
    "        "
   ]
  },
  {
   "cell_type": "code",
   "execution_count": 8,
   "id": "69fc6c01",
   "metadata": {},
   "outputs": [],
   "source": [
    "D1 = Dictionary(3)"
   ]
  },
  {
   "cell_type": "code",
   "execution_count": 50,
   "id": "a2524729",
   "metadata": {},
   "outputs": [
    {
     "name": "stdout",
     "output_type": "stream",
     "text": [
      "[None, None, None]\n",
      "[None, None, None]\n"
     ]
    }
   ],
   "source": [
    "print(D1.slots)\n",
    "print(D1.data)"
   ]
  },
  {
   "cell_type": "code",
   "execution_count": 51,
   "id": "406d5eb1",
   "metadata": {},
   "outputs": [],
   "source": [
    "D1.put(\"python\",45)"
   ]
  },
  {
   "cell_type": "code",
   "execution_count": 52,
   "id": "857bc4ce",
   "metadata": {},
   "outputs": [
    {
     "name": "stdout",
     "output_type": "stream",
     "text": [
      "[None, 'python', None]\n",
      "[None, 45, None]\n"
     ]
    }
   ],
   "source": [
    "print(D1.slots)\n",
    "print(D1.data)"
   ]
  },
  {
   "cell_type": "code",
   "execution_count": 53,
   "id": "4fe94d7b",
   "metadata": {},
   "outputs": [],
   "source": [
    "D1.put(\"java\",23)"
   ]
  },
  {
   "cell_type": "code",
   "execution_count": 43,
   "id": "65e65af6",
   "metadata": {},
   "outputs": [
    {
     "name": "stdout",
     "output_type": "stream",
     "text": [
      "['java', 'python', None]\n",
      "[23, 45, None]\n"
     ]
    }
   ],
   "source": [
    "print(D1.slots)\n",
    "print(D1.data)"
   ]
  },
  {
   "cell_type": "code",
   "execution_count": 54,
   "id": "69b2c85d",
   "metadata": {},
   "outputs": [],
   "source": [
    "D1.put(\"php\",100)"
   ]
  },
  {
   "cell_type": "code",
   "execution_count": 58,
   "id": "6d2c0f1d",
   "metadata": {},
   "outputs": [
    {
     "name": "stdout",
     "output_type": "stream",
     "text": [
      "['php', 'python', 'java']\n",
      "[100, 45, 23]\n"
     ]
    }
   ],
   "source": [
    "print(D1.slots)\n",
    "print(D1.data)"
   ]
  },
  {
   "cell_type": "code",
   "execution_count": 59,
   "id": "094105eb",
   "metadata": {},
   "outputs": [],
   "source": [
    "D1.put(\"python\",1000)"
   ]
  },
  {
   "cell_type": "code",
   "execution_count": 60,
   "id": "27a8a340",
   "metadata": {},
   "outputs": [
    {
     "name": "stdout",
     "output_type": "stream",
     "text": [
      "['php', 'python', 'java']\n",
      "[100, 1000, 23]\n"
     ]
    }
   ],
   "source": [
    "print(D1.slots)\n",
    "print(D1.data)"
   ]
  },
  {
   "cell_type": "code",
   "execution_count": 9,
   "id": "fb6f70f6",
   "metadata": {},
   "outputs": [],
   "source": [
    "D1[\"python\"] = 55"
   ]
  },
  {
   "cell_type": "code",
   "execution_count": 10,
   "id": "cdffbc2e",
   "metadata": {},
   "outputs": [],
   "source": [
    "D1[\"C\"] = 25"
   ]
  },
  {
   "cell_type": "code",
   "execution_count": 11,
   "id": "1cf73fef",
   "metadata": {},
   "outputs": [
    {
     "name": "stdout",
     "output_type": "stream",
     "text": [
      "['python', 'C', None]\n",
      "[55, 25, None]\n"
     ]
    }
   ],
   "source": [
    "print(D1.slots)\n",
    "print(D1.data)"
   ]
  },
  {
   "cell_type": "code",
   "execution_count": 36,
   "id": "f5c7ddce",
   "metadata": {},
   "outputs": [
    {
     "data": {
      "text/plain": [
       "23"
      ]
     },
     "execution_count": 36,
     "metadata": {},
     "output_type": "execute_result"
    }
   ],
   "source": [
    "D1[\"java\"]"
   ]
  },
  {
   "cell_type": "code",
   "execution_count": 12,
   "id": "1fb26f96",
   "metadata": {},
   "outputs": [
    {
     "name": "stdout",
     "output_type": "stream",
     "text": [
      "python : 55 C : 25 \n"
     ]
    }
   ],
   "source": [
    "print(D1)"
   ]
  },
  {
   "cell_type": "code",
   "execution_count": 13,
   "id": "06428154",
   "metadata": {},
   "outputs": [
    {
     "ename": "TypeError",
     "evalue": "unhashable type: 'list'",
     "output_type": "error",
     "traceback": [
      "\u001b[1;31m---------------------------------------------------------------------------\u001b[0m",
      "\u001b[1;31mTypeError\u001b[0m                                 Traceback (most recent call last)",
      "\u001b[1;32m~\\AppData\\Local\\Temp\\ipykernel_9304\\3312660011.py\u001b[0m in \u001b[0;36m<module>\u001b[1;34m\u001b[0m\n\u001b[1;32m----> 1\u001b[1;33m \u001b[0mD1\u001b[0m\u001b[1;33m[\u001b[0m\u001b[1;33m[\u001b[0m\u001b[1;36m1\u001b[0m\u001b[1;33m,\u001b[0m\u001b[1;36m2\u001b[0m\u001b[1;33m,\u001b[0m\u001b[1;36m3\u001b[0m\u001b[1;33m]\u001b[0m\u001b[1;33m]\u001b[0m \u001b[1;33m=\u001b[0m \u001b[1;34m\"Hello\"\u001b[0m\u001b[1;33m\u001b[0m\u001b[1;33m\u001b[0m\u001b[0m\n\u001b[0m",
      "\u001b[1;32m~\\AppData\\Local\\Temp\\ipykernel_9304\\1641173456.py\u001b[0m in \u001b[0;36m__setitem__\u001b[1;34m(self, key, value)\u001b[0m\n\u001b[0;32m     33\u001b[0m \u001b[1;33m\u001b[0m\u001b[0m\n\u001b[0;32m     34\u001b[0m     \u001b[1;32mdef\u001b[0m \u001b[0m__setitem__\u001b[0m\u001b[1;33m(\u001b[0m\u001b[0mself\u001b[0m\u001b[1;33m,\u001b[0m\u001b[0mkey\u001b[0m\u001b[1;33m,\u001b[0m\u001b[0mvalue\u001b[0m\u001b[1;33m)\u001b[0m\u001b[1;33m:\u001b[0m\u001b[1;33m\u001b[0m\u001b[1;33m\u001b[0m\u001b[0m\n\u001b[1;32m---> 35\u001b[1;33m         \u001b[0mself\u001b[0m\u001b[1;33m.\u001b[0m\u001b[0mput\u001b[0m\u001b[1;33m(\u001b[0m\u001b[0mkey\u001b[0m\u001b[1;33m,\u001b[0m\u001b[0mvalue\u001b[0m\u001b[1;33m)\u001b[0m\u001b[1;33m\u001b[0m\u001b[1;33m\u001b[0m\u001b[0m\n\u001b[0m\u001b[0;32m     36\u001b[0m \u001b[1;33m\u001b[0m\u001b[0m\n\u001b[0;32m     37\u001b[0m     \u001b[1;32mdef\u001b[0m \u001b[0mget\u001b[0m\u001b[1;33m(\u001b[0m\u001b[0mself\u001b[0m\u001b[1;33m,\u001b[0m\u001b[0mkey\u001b[0m\u001b[1;33m)\u001b[0m\u001b[1;33m:\u001b[0m\u001b[1;33m\u001b[0m\u001b[1;33m\u001b[0m\u001b[0m\n",
      "\u001b[1;32m~\\AppData\\Local\\Temp\\ipykernel_9304\\1641173456.py\u001b[0m in \u001b[0;36mput\u001b[1;34m(self, key, value)\u001b[0m\n\u001b[0;32m      8\u001b[0m \u001b[1;33m\u001b[0m\u001b[0m\n\u001b[0;32m      9\u001b[0m     \u001b[1;32mdef\u001b[0m \u001b[0mput\u001b[0m\u001b[1;33m(\u001b[0m\u001b[0mself\u001b[0m\u001b[1;33m,\u001b[0m\u001b[0mkey\u001b[0m\u001b[1;33m,\u001b[0m\u001b[0mvalue\u001b[0m\u001b[1;33m)\u001b[0m\u001b[1;33m:\u001b[0m\u001b[1;33m\u001b[0m\u001b[1;33m\u001b[0m\u001b[0m\n\u001b[1;32m---> 10\u001b[1;33m         \u001b[0mhash_value\u001b[0m \u001b[1;33m=\u001b[0m \u001b[0mself\u001b[0m\u001b[1;33m.\u001b[0m\u001b[0mhash_function\u001b[0m\u001b[1;33m(\u001b[0m\u001b[0mkey\u001b[0m\u001b[1;33m)\u001b[0m\u001b[1;33m\u001b[0m\u001b[1;33m\u001b[0m\u001b[0m\n\u001b[0m\u001b[0;32m     11\u001b[0m \u001b[1;33m\u001b[0m\u001b[0m\n\u001b[0;32m     12\u001b[0m         \u001b[1;32mif\u001b[0m \u001b[0mself\u001b[0m\u001b[1;33m.\u001b[0m\u001b[0mslots\u001b[0m\u001b[1;33m[\u001b[0m\u001b[0mhash_value\u001b[0m\u001b[1;33m]\u001b[0m \u001b[1;33m==\u001b[0m \u001b[1;32mNone\u001b[0m\u001b[1;33m:\u001b[0m\u001b[1;33m\u001b[0m\u001b[1;33m\u001b[0m\u001b[0m\n",
      "\u001b[1;32m~\\AppData\\Local\\Temp\\ipykernel_9304\\1641173456.py\u001b[0m in \u001b[0;36mhash_function\u001b[1;34m(self, key)\u001b[0m\n\u001b[0;32m     67\u001b[0m     \u001b[1;32mdef\u001b[0m \u001b[0mhash_function\u001b[0m\u001b[1;33m(\u001b[0m\u001b[0mself\u001b[0m\u001b[1;33m,\u001b[0m\u001b[0mkey\u001b[0m\u001b[1;33m)\u001b[0m\u001b[1;33m:\u001b[0m\u001b[1;33m\u001b[0m\u001b[1;33m\u001b[0m\u001b[0m\n\u001b[0;32m     68\u001b[0m         \u001b[1;31m# hash function which returns index position where item should insert\u001b[0m\u001b[1;33m\u001b[0m\u001b[1;33m\u001b[0m\u001b[0m\n\u001b[1;32m---> 69\u001b[1;33m         \u001b[1;32mreturn\u001b[0m \u001b[0mabs\u001b[0m\u001b[1;33m(\u001b[0m\u001b[0mhash\u001b[0m\u001b[1;33m(\u001b[0m\u001b[0mkey\u001b[0m\u001b[1;33m)\u001b[0m\u001b[1;33m)\u001b[0m \u001b[1;33m%\u001b[0m \u001b[0mself\u001b[0m\u001b[1;33m.\u001b[0m\u001b[0msize\u001b[0m\u001b[1;33m\u001b[0m\u001b[1;33m\u001b[0m\u001b[0m\n\u001b[0m\u001b[0;32m     70\u001b[0m \u001b[1;33m\u001b[0m\u001b[0m\n\u001b[0;32m     71\u001b[0m \u001b[1;33m\u001b[0m\u001b[0m\n",
      "\u001b[1;31mTypeError\u001b[0m: unhashable type: 'list'"
     ]
    }
   ],
   "source": [
    "# can not hash mutable data types\n",
    "D1[[1,2,3]] = \"Hello\""
   ]
  },
  {
   "cell_type": "code",
   "execution_count": 14,
   "id": "7df38ebf",
   "metadata": {},
   "outputs": [
    {
     "ename": "TypeError",
     "evalue": "unhashable type: 'list'",
     "output_type": "error",
     "traceback": [
      "\u001b[1;31m---------------------------------------------------------------------------\u001b[0m",
      "\u001b[1;31mTypeError\u001b[0m                                 Traceback (most recent call last)",
      "\u001b[1;32m~\\AppData\\Local\\Temp\\ipykernel_9304\\2718579361.py\u001b[0m in \u001b[0;36m<module>\u001b[1;34m\u001b[0m\n\u001b[1;32m----> 1\u001b[1;33m \u001b[0mD2\u001b[0m \u001b[1;33m=\u001b[0m \u001b[1;33m{\u001b[0m\u001b[1;33m[\u001b[0m\u001b[1;36m1\u001b[0m\u001b[1;33m,\u001b[0m\u001b[1;36m2\u001b[0m\u001b[1;33m,\u001b[0m\u001b[1;36m3\u001b[0m\u001b[1;33m]\u001b[0m\u001b[1;33m:\u001b[0m\u001b[1;34m\"hello\"\u001b[0m\u001b[1;33m}\u001b[0m\u001b[1;33m\u001b[0m\u001b[1;33m\u001b[0m\u001b[0m\n\u001b[0m",
      "\u001b[1;31mTypeError\u001b[0m: unhashable type: 'list'"
     ]
    }
   ],
   "source": [
    "D2 = {[1,2,3]:\"hello\"}"
   ]
  },
  {
   "cell_type": "code",
   "execution_count": null,
   "id": "6a18e500",
   "metadata": {},
   "outputs": [],
   "source": []
  },
  {
   "cell_type": "code",
   "execution_count": null,
   "id": "a022c84d",
   "metadata": {},
   "outputs": [],
   "source": []
  },
  {
   "cell_type": "code",
   "execution_count": null,
   "id": "f3a6051d",
   "metadata": {},
   "outputs": [],
   "source": []
  },
  {
   "cell_type": "code",
   "execution_count": 2,
   "id": "025022d2",
   "metadata": {},
   "outputs": [
    {
     "data": {
      "text/plain": [
       "123"
      ]
     },
     "execution_count": 2,
     "metadata": {},
     "output_type": "execute_result"
    }
   ],
   "source": [
    "hash(123)"
   ]
  },
  {
   "cell_type": "code",
   "execution_count": 3,
   "id": "bfeac6f2",
   "metadata": {},
   "outputs": [
    {
     "data": {
      "text/plain": [
       "4"
      ]
     },
     "execution_count": 3,
     "metadata": {},
     "output_type": "execute_result"
    }
   ],
   "source": [
    "abs(hash(\"python\")) % 5"
   ]
  },
  {
   "cell_type": "code",
   "execution_count": 4,
   "id": "200f11cc",
   "metadata": {},
   "outputs": [
    {
     "data": {
      "text/plain": [
       "1152921504606846977"
      ]
     },
     "execution_count": 4,
     "metadata": {},
     "output_type": "execute_result"
    }
   ],
   "source": [
    "hash(1.5)"
   ]
  },
  {
   "cell_type": "code",
   "execution_count": 5,
   "id": "8168e304",
   "metadata": {},
   "outputs": [
    {
     "data": {
      "text/plain": [
       "529344067295497451"
      ]
     },
     "execution_count": 5,
     "metadata": {},
     "output_type": "execute_result"
    }
   ],
   "source": [
    "hash((1,2,3))"
   ]
  },
  {
   "cell_type": "code",
   "execution_count": 6,
   "id": "43bb61fd",
   "metadata": {},
   "outputs": [
    {
     "ename": "TypeError",
     "evalue": "unhashable type: 'list'",
     "output_type": "error",
     "traceback": [
      "\u001b[1;31m---------------------------------------------------------------------------\u001b[0m",
      "\u001b[1;31mTypeError\u001b[0m                                 Traceback (most recent call last)",
      "\u001b[1;32m~\\AppData\\Local\\Temp\\ipykernel_7548\\2302361394.py\u001b[0m in \u001b[0;36m<module>\u001b[1;34m\u001b[0m\n\u001b[1;32m----> 1\u001b[1;33m \u001b[0mhash\u001b[0m\u001b[1;33m(\u001b[0m\u001b[1;33m[\u001b[0m\u001b[1;36m1\u001b[0m\u001b[1;33m,\u001b[0m\u001b[1;36m2\u001b[0m\u001b[1;33m,\u001b[0m\u001b[1;36m3\u001b[0m\u001b[1;33m]\u001b[0m\u001b[1;33m)\u001b[0m\u001b[1;33m\u001b[0m\u001b[1;33m\u001b[0m\u001b[0m\n\u001b[0m",
      "\u001b[1;31mTypeError\u001b[0m: unhashable type: 'list'"
     ]
    }
   ],
   "source": [
    "hash([1,2,3])"
   ]
  },
  {
   "cell_type": "code",
   "execution_count": null,
   "id": "619d3892",
   "metadata": {},
   "outputs": [],
   "source": []
  }
 ],
 "metadata": {
  "kernelspec": {
   "display_name": "Python 3 (ipykernel)",
   "language": "python",
   "name": "python3"
  },
  "language_info": {
   "codemirror_mode": {
    "name": "ipython",
    "version": 3
   },
   "file_extension": ".py",
   "mimetype": "text/x-python",
   "name": "python",
   "nbconvert_exporter": "python",
   "pygments_lexer": "ipython3",
   "version": "3.9.13"
  }
 },
 "nbformat": 4,
 "nbformat_minor": 5
}
