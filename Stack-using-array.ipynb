{
 "cells": [
  {
   "cell_type": "code",
   "execution_count": 1,
   "id": "036a0f0d",
   "metadata": {},
   "outputs": [],
   "source": [
    "# Implementing stack using array (by using python list but assuming that\n",
    "# it behaves like array and it is of fixed size)."
   ]
  },
  {
   "cell_type": "code",
   "execution_count": 2,
   "id": "e81016d9",
   "metadata": {},
   "outputs": [],
   "source": [
    "class Stack:\n",
    "    \n",
    "    #initializing stack by given size\n",
    "    def __init__(self,size):\n",
    "        self.size = size\n",
    "        self.stack = [None] * self.size\n",
    "        self.top = -1\n",
    "        \n",
    "    def push(self,value):\n",
    "        if self.top == self.size - 1:\n",
    "            return \"Stack Overflow\"\n",
    "        else:\n",
    "            self.top += 1\n",
    "            self.stack[self.top] = value\n",
    "            \n",
    "    def pop(self):\n",
    "        if self.top == -1:\n",
    "            return \"Stack Empty\"\n",
    "        else:\n",
    "            data = self.stack[self.top]\n",
    "            self.top = self.top - 1\n",
    "            print(data)\n",
    "            \n",
    "    def traverse(self):\n",
    "        for i in range(self.top + 1):\n",
    "            print(self.stack[i], end = \" \")\n",
    "            \n",
    "    "
   ]
  },
  {
   "cell_type": "code",
   "execution_count": 3,
   "id": "0eca16fa",
   "metadata": {},
   "outputs": [],
   "source": [
    "s=Stack(4)"
   ]
  },
  {
   "cell_type": "code",
   "execution_count": 4,
   "id": "ceda8b9e",
   "metadata": {},
   "outputs": [
    {
     "data": {
      "text/plain": [
       "[None, None, None, None]"
      ]
     },
     "execution_count": 4,
     "metadata": {},
     "output_type": "execute_result"
    }
   ],
   "source": [
    "s.stack"
   ]
  },
  {
   "cell_type": "code",
   "execution_count": 5,
   "id": "b91507ee",
   "metadata": {},
   "outputs": [],
   "source": [
    "s.push(9)\n",
    "s.push(2)\n",
    "s.push(1)\n",
    "s.push(5)"
   ]
  },
  {
   "cell_type": "code",
   "execution_count": 6,
   "id": "b64644a1",
   "metadata": {},
   "outputs": [
    {
     "data": {
      "text/plain": [
       "[9, 2, 1, 5]"
      ]
     },
     "execution_count": 6,
     "metadata": {},
     "output_type": "execute_result"
    }
   ],
   "source": [
    "s.stack"
   ]
  },
  {
   "cell_type": "code",
   "execution_count": 7,
   "id": "faef0431",
   "metadata": {},
   "outputs": [
    {
     "name": "stdout",
     "output_type": "stream",
     "text": [
      "5\n"
     ]
    }
   ],
   "source": [
    "s.pop()"
   ]
  },
  {
   "cell_type": "code",
   "execution_count": 8,
   "id": "d958d741",
   "metadata": {},
   "outputs": [
    {
     "name": "stdout",
     "output_type": "stream",
     "text": [
      "9 2 1 "
     ]
    }
   ],
   "source": [
    "s.traverse()"
   ]
  },
  {
   "cell_type": "code",
   "execution_count": 9,
   "id": "b3856b83",
   "metadata": {},
   "outputs": [
    {
     "data": {
      "text/plain": [
       "[9, 2, 1, 5]"
      ]
     },
     "execution_count": 9,
     "metadata": {},
     "output_type": "execute_result"
    }
   ],
   "source": [
    "s.stack"
   ]
  },
  {
   "cell_type": "code",
   "execution_count": null,
   "id": "5e06c1c9",
   "metadata": {},
   "outputs": [],
   "source": []
  }
 ],
 "metadata": {
  "kernelspec": {
   "display_name": "Python 3 (ipykernel)",
   "language": "python",
   "name": "python3"
  },
  "language_info": {
   "codemirror_mode": {
    "name": "ipython",
    "version": 3
   },
   "file_extension": ".py",
   "mimetype": "text/x-python",
   "name": "python",
   "nbconvert_exporter": "python",
   "pygments_lexer": "ipython3",
   "version": "3.9.13"
  }
 },
 "nbformat": 4,
 "nbformat_minor": 5
}
