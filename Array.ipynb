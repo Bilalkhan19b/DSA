{
 "cells": [
  {
   "cell_type": "code",
   "execution_count": null,
   "id": "04e052f9",
   "metadata": {},
   "outputs": [],
   "source": [
    "# Proof that python list uses the concept of dynamic array"
   ]
  },
  {
   "cell_type": "code",
   "execution_count": 1,
   "id": "0892ef7a",
   "metadata": {},
   "outputs": [],
   "source": [
    "import sys"
   ]
  },
  {
   "cell_type": "code",
   "execution_count": 3,
   "id": "64c8bc71",
   "metadata": {},
   "outputs": [
    {
     "name": "stdout",
     "output_type": "stream",
     "text": [
      "0 56\n",
      "1 88\n",
      "2 88\n",
      "3 88\n",
      "4 88\n",
      "5 120\n",
      "6 120\n",
      "7 120\n",
      "8 120\n",
      "9 184\n",
      "10 184\n",
      "11 184\n",
      "12 184\n",
      "13 184\n",
      "14 184\n",
      "15 184\n",
      "16 184\n",
      "17 248\n",
      "18 248\n",
      "19 248\n",
      "20 248\n",
      "21 248\n",
      "22 248\n",
      "23 248\n",
      "24 248\n",
      "25 312\n",
      "26 312\n",
      "27 312\n",
      "28 312\n",
      "29 312\n",
      "30 312\n",
      "31 312\n",
      "32 312\n",
      "33 376\n",
      "34 376\n",
      "35 376\n",
      "36 376\n",
      "37 376\n",
      "38 376\n",
      "39 376\n",
      "40 376\n",
      "41 472\n",
      "42 472\n",
      "43 472\n",
      "44 472\n",
      "45 472\n",
      "46 472\n",
      "47 472\n",
      "48 472\n",
      "49 472\n",
      "50 472\n",
      "51 472\n",
      "52 472\n",
      "53 568\n",
      "54 568\n",
      "55 568\n",
      "56 568\n",
      "57 568\n",
      "58 568\n",
      "59 568\n",
      "60 568\n",
      "61 568\n",
      "62 568\n",
      "63 568\n",
      "64 568\n",
      "65 664\n",
      "66 664\n",
      "67 664\n",
      "68 664\n",
      "69 664\n",
      "70 664\n",
      "71 664\n",
      "72 664\n",
      "73 664\n",
      "74 664\n",
      "75 664\n",
      "76 664\n",
      "77 792\n",
      "78 792\n",
      "79 792\n",
      "80 792\n",
      "81 792\n",
      "82 792\n",
      "83 792\n",
      "84 792\n",
      "85 792\n",
      "86 792\n",
      "87 792\n",
      "88 792\n",
      "89 792\n",
      "90 792\n",
      "91 792\n",
      "92 792\n",
      "93 920\n",
      "94 920\n",
      "95 920\n",
      "96 920\n",
      "97 920\n",
      "98 920\n",
      "99 920\n"
     ]
    }
   ],
   "source": [
    "L=[]\n",
    "for i in range(100):\n",
    "    print(i,sys.getsizeof(L))\n",
    "    L.append(i)"
   ]
  },
  {
   "cell_type": "markdown",
   "id": "3318d77f",
   "metadata": {},
   "source": [
    "# Arrays\n",
    "\n",
    "##### Array is a linear data structure that store multiple elements of same type at continuous memory locations"
   ]
  },
  {
   "cell_type": "markdown",
   "id": "606b88bf",
   "metadata": {},
   "source": [
    "- Creating a datatype names as MeraList which behaves like list of python using C array.\n",
    "- Dynamic Array\n",
    "1. create list\n",
    "2. len\n",
    "3. append\n",
    "4. print\n",
    "5. indexing\n",
    "6. pop\n",
    "7. clear\n",
    "8. find\n",
    "9. insert\n",
    "10. delete\n",
    "11. remove"
   ]
  },
  {
   "cell_type": "code",
   "execution_count": 5,
   "id": "8a21d70f",
   "metadata": {},
   "outputs": [],
   "source": [
    "# Module to create C datatypes in python\n",
    "import ctypes"
   ]
  },
  {
   "cell_type": "code",
   "execution_count": 219,
   "id": "28a1de4c",
   "metadata": {},
   "outputs": [],
   "source": [
    "class MeraList:\n",
    "    \n",
    "    def __init__(self):\n",
    "        self.size=1\n",
    "        self.n=0\n",
    "        # Creating a C type array with size = self.size\n",
    "        self.A=self.__make_array(self.size)\n",
    "        \n",
    "    def __make_array(self,capacity):\n",
    "        # Creating a C type array(static, referential) with size = capacity\n",
    "        return (capacity*ctypes.py_object)()\n",
    "    \n",
    "    def __len__(self):\n",
    "        return self.n\n",
    "    \n",
    "    def append(self,item):\n",
    "        if self.n==self.size:\n",
    "            # resizing the array\n",
    "            self.__resize(self.size*2)\n",
    "        # append the item\n",
    "        self.A[self.n]=item\n",
    "        self.n=self.n+1\n",
    "            \n",
    "    def __resize(self,new_capacity):\n",
    "        # creating a new array with new capacity\n",
    "        B=self.__make_array(new_capacity)\n",
    "        self.size=new_capacity\n",
    "        # copying the content of A to B\n",
    "        for i in range(self.n):\n",
    "            B[i]=self.A[i]\n",
    "        # reassign arrayB to array A\n",
    "        self.A=B\n",
    "        \n",
    "    def __str__(self):\n",
    "        result=\"\"\n",
    "        for i in range(self.n):\n",
    "            result=result+str(self.A[i])+\",\" \n",
    "        return \"[\"+result[:-1]+\"]\"\n",
    "    \n",
    "    def __getitem__(self,index):\n",
    "        if 0<=index<self.n:\n",
    "            return self.A[index]\n",
    "        else:\n",
    "            return \"IndexError - Index out of range\"\n",
    "        \n",
    "    def pop(self):\n",
    "        if self.n==0:\n",
    "            return \"Empty List\"\n",
    "        print(self.A[self.n-1])\n",
    "        self.n=self.n-1\n",
    "        \n",
    "    def clear(self):\n",
    "        self.size=1\n",
    "        self.n=0\n",
    "        \n",
    "    def find(self,item):\n",
    "        for i in range(self.n):\n",
    "            if self.A[i]==item:\n",
    "                return i\n",
    "        return \"ValueError - Item not in list\"\n",
    "    \n",
    "    def insert(self,pos,item):\n",
    "        if self.n==self.size:\n",
    "            self.__resize(self.size*2)\n",
    "        for i in range(self.n,pos,-1):\n",
    "            self.A[i]=self.A[i-1]\n",
    "        self.A[pos]=item\n",
    "        self.n=self.n+1\n",
    "        \n",
    "    def __delitem__(self,pos):\n",
    "        if 0<=pos<self.n:\n",
    "            for i in range(pos,self.n-1):\n",
    "                self.A[i]=self.A[i+1]\n",
    "            self.n=self.n-1\n",
    "            \n",
    "    def remove(self,item):\n",
    "        pos=self.find(item)\n",
    "        if type(pos)==int:\n",
    "            #delete\n",
    "            self.__delitem__(pos)\n",
    "        else:\n",
    "            return pos\n",
    "        "
   ]
  },
  {
   "cell_type": "code",
   "execution_count": 220,
   "id": "a2b13cec",
   "metadata": {},
   "outputs": [],
   "source": [
    "L=MeraList()"
   ]
  },
  {
   "cell_type": "code",
   "execution_count": 221,
   "id": "99a650db",
   "metadata": {},
   "outputs": [
    {
     "data": {
      "text/plain": [
       "__main__.MeraList"
      ]
     },
     "execution_count": 221,
     "metadata": {},
     "output_type": "execute_result"
    }
   ],
   "source": [
    "type(L)"
   ]
  },
  {
   "cell_type": "code",
   "execution_count": 234,
   "id": "a08b6d5f",
   "metadata": {},
   "outputs": [
    {
     "data": {
      "text/plain": [
       "8"
      ]
     },
     "execution_count": 234,
     "metadata": {},
     "output_type": "execute_result"
    }
   ],
   "source": [
    "len(L)"
   ]
  },
  {
   "cell_type": "code",
   "execution_count": 233,
   "id": "6a149651",
   "metadata": {},
   "outputs": [],
   "source": [
    "L.append(\"Hello\")\n",
    "L.append(2)\n",
    "L.append(\"True\")\n",
    "L.append(3.14)"
   ]
  },
  {
   "cell_type": "code",
   "execution_count": 225,
   "id": "50e367fd",
   "metadata": {},
   "outputs": [
    {
     "name": "stdout",
     "output_type": "stream",
     "text": [
      "[Hello,2,True,1]\n"
     ]
    }
   ],
   "source": [
    "print(L)"
   ]
  },
  {
   "cell_type": "code",
   "execution_count": 226,
   "id": "f9fc49ee",
   "metadata": {},
   "outputs": [
    {
     "data": {
      "text/plain": [
       "'True'"
      ]
     },
     "execution_count": 226,
     "metadata": {},
     "output_type": "execute_result"
    }
   ],
   "source": [
    "L[2]"
   ]
  },
  {
   "cell_type": "code",
   "execution_count": 227,
   "id": "0e8583b6",
   "metadata": {},
   "outputs": [
    {
     "name": "stdout",
     "output_type": "stream",
     "text": [
      "1\n"
     ]
    }
   ],
   "source": [
    "L.pop()"
   ]
  },
  {
   "cell_type": "code",
   "execution_count": 228,
   "id": "8002bc6c",
   "metadata": {},
   "outputs": [
    {
     "data": {
      "text/plain": [
       "'ValueError - Item not in list'"
      ]
     },
     "execution_count": 228,
     "metadata": {},
     "output_type": "execute_result"
    }
   ],
   "source": [
    "L.find(66)"
   ]
  },
  {
   "cell_type": "code",
   "execution_count": 229,
   "id": "0b0b2d07",
   "metadata": {},
   "outputs": [],
   "source": [
    "L.insert(3,\"world\")"
   ]
  },
  {
   "cell_type": "code",
   "execution_count": 230,
   "id": "9cb27f2b",
   "metadata": {},
   "outputs": [],
   "source": [
    "del L[200]"
   ]
  },
  {
   "cell_type": "code",
   "execution_count": 231,
   "id": "b63af6ce",
   "metadata": {},
   "outputs": [
    {
     "data": {
      "text/plain": [
       "'ValueError - Item not in list'"
      ]
     },
     "execution_count": 231,
     "metadata": {},
     "output_type": "execute_result"
    }
   ],
   "source": [
    "L.remove(3.14)"
   ]
  },
  {
   "cell_type": "code",
   "execution_count": 232,
   "id": "7f6939b5",
   "metadata": {},
   "outputs": [
    {
     "data": {
      "text/plain": [
       "'ValueError - Item not in list'"
      ]
     },
     "execution_count": 232,
     "metadata": {},
     "output_type": "execute_result"
    }
   ],
   "source": [
    "L.remove(3)"
   ]
  },
  {
   "cell_type": "code",
   "execution_count": null,
   "id": "42ee4885",
   "metadata": {},
   "outputs": [],
   "source": []
  }
 ],
 "metadata": {
  "kernelspec": {
   "display_name": "Python 3 (ipykernel)",
   "language": "python",
   "name": "python3"
  },
  "language_info": {
   "codemirror_mode": {
    "name": "ipython",
    "version": 3
   },
   "file_extension": ".py",
   "mimetype": "text/x-python",
   "name": "python",
   "nbconvert_exporter": "python",
   "pygments_lexer": "ipython3",
   "version": "3.9.13"
  }
 },
 "nbformat": 4,
 "nbformat_minor": 5
}
