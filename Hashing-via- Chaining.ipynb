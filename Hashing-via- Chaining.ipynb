{
 "cells": [
  {
   "cell_type": "markdown",
   "id": "8c9b80c7",
   "metadata": {},
   "source": [
    "# Hashing\n",
    "## Closed Addressing\n",
    "### Chaining"
   ]
  },
  {
   "cell_type": "code",
   "execution_count": 1,
   "id": "fd295625",
   "metadata": {},
   "outputs": [],
   "source": [
    "class Node:\n",
    "    def __init__(self,key,value):\n",
    "        self.key = key\n",
    "        self.value = value\n",
    "        self.next = None"
   ]
  },
  {
   "cell_type": "code",
   "execution_count": 46,
   "id": "273eac04",
   "metadata": {},
   "outputs": [],
   "source": [
    "class LinkedList:\n",
    "    \n",
    "    def __init__(self):\n",
    "        # empty linked list\n",
    "        self.head = None\n",
    "        # no of nodes in the LL\n",
    "        self.n=0\n",
    "        \n",
    "    def __len__(self):\n",
    "        return self.n\n",
    "        \n",
    "    def traverse(self):\n",
    "        curr = self.head\n",
    "        while curr != None:\n",
    "            print(curr.key,\"-->\",curr.value,\" \",end = \" \")\n",
    "            curr = curr.next\n",
    "            \n",
    "    def size(self):\n",
    "        curr = self.head\n",
    "        counter = 0\n",
    "        while curr != None:\n",
    "            counter +=1\n",
    "            curr = curr.next\n",
    "        return counter\n",
    "            \n",
    "    \n",
    "    def __getitem__(self,index):\n",
    "        \n",
    "        curr = self.head\n",
    "        pos = 0\n",
    "        \n",
    "        while curr != None:\n",
    "            if pos == index:\n",
    "                return curr.data\n",
    "            \n",
    "            curr = curr.next\n",
    "            pos = pos + 1\n",
    "            \n",
    "        return \"Index-Not-Found\"\n",
    "    \n",
    "    def append(self,key,value):\n",
    "        new_node = Node(key,value)\n",
    "        \n",
    "        if self.head == None:\n",
    "            # empty\n",
    "            self.head = new_node\n",
    "            self.n = self.n + 1\n",
    "            return\n",
    "        else:\n",
    "            curr = self.head\n",
    "\n",
    "            while curr.next != None:\n",
    "                curr = curr.next\n",
    "\n",
    "            # you are at the last node\n",
    "            curr.next = new_node\n",
    "            self.n += 1\n",
    "            \n",
    "    \n",
    "    def clear(self):\n",
    "        self.head = None\n",
    "        self.n = 0\n",
    "    \n",
    "    def delete_head(self):\n",
    "        if self.head == None:\n",
    "            return \"Empty-LL\"\n",
    "        self.head = self.head.next\n",
    "        self.n = self.n - 1\n",
    "             \n",
    "    def remove(self,key):\n",
    "        \n",
    "        if self.head == None:\n",
    "            return \"Empty-LL\"\n",
    "        \n",
    "        if self.head.key == key:\n",
    "            # you want to remove head node\n",
    "            return self.delete_head()\n",
    "        \n",
    "        curr = self.head\n",
    "        \n",
    "        while curr.next != None:\n",
    "            if curr.next.key == key:\n",
    "                break\n",
    "            curr=curr.next\n",
    "            \n",
    "        # case 1: Item nhi mila\n",
    "        if curr.next == None:\n",
    "            return \"Item-Not-Found\"\n",
    "        \n",
    "        # case 2: Item mil gya\n",
    "        else:\n",
    "            curr.next = curr.next.next\n",
    "    \n",
    "    def search(self,key):\n",
    "        \n",
    "        curr=self.head\n",
    "        pos = 0\n",
    "        \n",
    "        while curr != None:\n",
    "            if curr.key == key:\n",
    "                return pos\n",
    "            \n",
    "            curr = curr.next\n",
    "            pos = pos + 1\n",
    "            \n",
    "        return -1\n",
    "    \n",
    "    def get_node_at_index(self,index):\n",
    "        \n",
    "        curr = self.head\n",
    "        counter = 0\n",
    "        \n",
    "        while curr != None:\n",
    "            \n",
    "            if counter == index:\n",
    "                return curr\n",
    "            curr = curr.next\n",
    "            counter += 1\n",
    "    "
   ]
  },
  {
   "cell_type": "code",
   "execution_count": 137,
   "id": "ed0069d5",
   "metadata": {},
   "outputs": [],
   "source": [
    "class Dictionary:\n",
    "    def __init__(self,capacity):\n",
    "        \n",
    "        self.capacity = capacity\n",
    "        self.size = 0\n",
    "        # create array of LL\n",
    "        self.buckets = self.make_array(self.capacity)\n",
    "        \n",
    "    def make_array(self,capacity):\n",
    "        L = []\n",
    "        for i in range(capacity):\n",
    "            L.append(LinkedList())\n",
    "        return L\n",
    "    \n",
    "    def __setitem__(self,key,value):\n",
    "        self.put(key,value)\n",
    "        \n",
    "    def __getitem__(self,key):\n",
    "        return self.get(key)\n",
    "    \n",
    "    def __delitem__(self,key):\n",
    "        bucket_index = self.hash_function(key)\n",
    "        self.buckets[bucket_index].remove(key)\n",
    "        \n",
    "    def __str__(self):\n",
    "        \n",
    "        for i in self.buckets:\n",
    "            i.traverse()\n",
    "        return \"\"\n",
    "        \n",
    "    def __len__(self):\n",
    "        return self.size\n",
    "    \n",
    "    def get(self,key):\n",
    "        bucket_index = self.hash_function(key)\n",
    "        res = self.buckets[bucket_index].search(key)\n",
    "        \n",
    "        if res == -1:\n",
    "            return \"Not present\"\n",
    "        else:\n",
    "            node = self.buckets[bucket_index].get_node_at_index(res)\n",
    "            return node.value\n",
    "    \n",
    "    def put(self,key,value):\n",
    "        bucket_index = self.hash_function(key)\n",
    "        \n",
    "        node_index = self.get_node_index(bucket_index, key)\n",
    "        \n",
    "        if node_index == -1:\n",
    "            #insert\n",
    "            self.buckets[bucket_index].append(key,value)\n",
    "            self.size += 1\n",
    "            \n",
    "            load_factor = self.size/self.capacity\n",
    "            print(\"load factor:\",load_factor)\n",
    "            \n",
    "            if (load_factor >= 2):\n",
    "                self.rehash()\n",
    "        else:\n",
    "            #update\n",
    "            node = self.buckets[bucket_index].get_node_at_index(node_index)\n",
    "            node.value = value\n",
    "            \n",
    "    def rehash(self):\n",
    "        self.capacity = self.capacity * 2\n",
    "        old_buckets = self.buckets\n",
    "        self.size = 0\n",
    "        self.buckets = self.make_array(self.capacity)\n",
    "        \n",
    "        for i in old_buckets:\n",
    "            for j in range(i.size()):\n",
    "                node = i.get_node_at_index(j)\n",
    "                key_item = node.key\n",
    "                value_item = node.value\n",
    "                self.put(key_item,value_item)\n",
    "    \n",
    "    def get_node_index(self,bucket_index, key):\n",
    "        \n",
    "        node_index = self.buckets[bucket_index].search(key)\n",
    "        \n",
    "        return node_index\n",
    "    \n",
    "    def hash_function(self,key):\n",
    "        return abs(hash(key)) % self.capacity"
   ]
  },
  {
   "cell_type": "code",
   "execution_count": 112,
   "id": "22d7ed35",
   "metadata": {},
   "outputs": [],
   "source": [
    "D1 = Dictionary(2)"
   ]
  },
  {
   "cell_type": "code",
   "execution_count": 81,
   "id": "b788a063",
   "metadata": {},
   "outputs": [
    {
     "data": {
      "text/plain": [
       "[<__main__.LinkedList at 0x2783c5d1be0>,\n",
       " <__main__.LinkedList at 0x2783c709d90>]"
      ]
     },
     "execution_count": 81,
     "metadata": {},
     "output_type": "execute_result"
    }
   ],
   "source": [
    "D1.buckets"
   ]
  },
  {
   "cell_type": "code",
   "execution_count": 82,
   "id": "17447098",
   "metadata": {},
   "outputs": [
    {
     "name": "stdout",
     "output_type": "stream",
     "text": [
      "load factor: 0.5\n"
     ]
    }
   ],
   "source": [
    "D1.put(\"ruby\",10)"
   ]
  },
  {
   "cell_type": "code",
   "execution_count": 83,
   "id": "18bd8d9c",
   "metadata": {},
   "outputs": [
    {
     "name": "stdout",
     "output_type": "stream",
     "text": [
      "load factor: 1.0\n"
     ]
    }
   ],
   "source": [
    "D1.put(\"ruby1\",20)"
   ]
  },
  {
   "cell_type": "code",
   "execution_count": 84,
   "id": "4a05c41e",
   "metadata": {},
   "outputs": [
    {
     "name": "stdout",
     "output_type": "stream",
     "text": [
      "load factor: 1.5\n"
     ]
    }
   ],
   "source": [
    "D1.put(\"ruby2\",30)"
   ]
  },
  {
   "cell_type": "code",
   "execution_count": 85,
   "id": "0646fe8e",
   "metadata": {},
   "outputs": [
    {
     "name": "stdout",
     "output_type": "stream",
     "text": [
      "load factor: 2.0\n",
      "load factor: 0.25\n",
      "load factor: 0.5\n",
      "load factor: 0.75\n",
      "load factor: 1.0\n"
     ]
    }
   ],
   "source": [
    "D1.put(\"ruby3\",40)"
   ]
  },
  {
   "cell_type": "code",
   "execution_count": 86,
   "id": "b08f9f1e",
   "metadata": {},
   "outputs": [
    {
     "data": {
      "text/plain": [
       "[<__main__.LinkedList at 0x2783c709400>,\n",
       " <__main__.LinkedList at 0x2783c709a00>,\n",
       " <__main__.LinkedList at 0x2783c69c8e0>,\n",
       " <__main__.LinkedList at 0x2783c69c850>]"
      ]
     },
     "execution_count": 86,
     "metadata": {},
     "output_type": "execute_result"
    }
   ],
   "source": [
    "D1.buckets"
   ]
  },
  {
   "cell_type": "code",
   "execution_count": 87,
   "id": "bdfebdf3",
   "metadata": {},
   "outputs": [
    {
     "name": "stdout",
     "output_type": "stream",
     "text": [
      "load factor: 1.25\n"
     ]
    }
   ],
   "source": [
    "D1.put(\"ruby4\",50)"
   ]
  },
  {
   "cell_type": "code",
   "execution_count": 88,
   "id": "cdf95745",
   "metadata": {},
   "outputs": [
    {
     "name": "stdout",
     "output_type": "stream",
     "text": [
      "load factor: 1.5\n"
     ]
    }
   ],
   "source": [
    "D1.put(\"ruby5\",60)"
   ]
  },
  {
   "cell_type": "code",
   "execution_count": 89,
   "id": "4ad7514f",
   "metadata": {},
   "outputs": [
    {
     "name": "stdout",
     "output_type": "stream",
     "text": [
      "load factor: 1.75\n"
     ]
    }
   ],
   "source": [
    "D1.put(\"ruby6\",70)"
   ]
  },
  {
   "cell_type": "code",
   "execution_count": 90,
   "id": "6f39734f",
   "metadata": {},
   "outputs": [
    {
     "name": "stdout",
     "output_type": "stream",
     "text": [
      "load factor: 2.0\n",
      "load factor: 0.125\n",
      "load factor: 0.25\n",
      "load factor: 0.375\n",
      "load factor: 0.5\n",
      "load factor: 0.625\n",
      "load factor: 0.75\n",
      "load factor: 0.875\n",
      "load factor: 1.0\n"
     ]
    }
   ],
   "source": [
    "D1.put(\"ruby7\",80)"
   ]
  },
  {
   "cell_type": "code",
   "execution_count": 91,
   "id": "e211099d",
   "metadata": {},
   "outputs": [
    {
     "data": {
      "text/plain": [
       "[<__main__.LinkedList at 0x2783c72b5b0>,\n",
       " <__main__.LinkedList at 0x2783c44d070>,\n",
       " <__main__.LinkedList at 0x2783c44d130>,\n",
       " <__main__.LinkedList at 0x2783c705610>,\n",
       " <__main__.LinkedList at 0x2783c1e5580>,\n",
       " <__main__.LinkedList at 0x2783c1e5ac0>,\n",
       " <__main__.LinkedList at 0x2783c69c040>,\n",
       " <__main__.LinkedList at 0x2783c69c100>]"
      ]
     },
     "execution_count": 91,
     "metadata": {},
     "output_type": "execute_result"
    }
   ],
   "source": [
    "D1.buckets"
   ]
  },
  {
   "cell_type": "code",
   "execution_count": 92,
   "id": "b9f8af81",
   "metadata": {},
   "outputs": [
    {
     "name": "stdout",
     "output_type": "stream",
     "text": [
      "ruby3 --> 40   "
     ]
    }
   ],
   "source": [
    "D1.buckets[3].traverse()"
   ]
  },
  {
   "cell_type": "code",
   "execution_count": null,
   "id": "8a75cc61",
   "metadata": {},
   "outputs": [],
   "source": []
  },
  {
   "cell_type": "code",
   "execution_count": 141,
   "id": "8b050222",
   "metadata": {},
   "outputs": [],
   "source": [
    "# creating new object\n",
    "D2 = Dictionary(4)"
   ]
  },
  {
   "cell_type": "code",
   "execution_count": 142,
   "id": "69e24ef2",
   "metadata": {},
   "outputs": [
    {
     "name": "stdout",
     "output_type": "stream",
     "text": [
      "load factor: 0.25\n"
     ]
    }
   ],
   "source": [
    "D2[\"python\"] = 33"
   ]
  },
  {
   "cell_type": "code",
   "execution_count": 143,
   "id": "ab6a3b70",
   "metadata": {},
   "outputs": [
    {
     "name": "stdout",
     "output_type": "stream",
     "text": [
      "load factor: 0.5\n"
     ]
    }
   ],
   "source": [
    "D2[\"php\"] = 44"
   ]
  },
  {
   "cell_type": "code",
   "execution_count": 144,
   "id": "9d8a30c1",
   "metadata": {},
   "outputs": [
    {
     "name": "stdout",
     "output_type": "stream",
     "text": [
      "load factor: 0.75\n"
     ]
    }
   ],
   "source": [
    "D2[\"c\"] = 55"
   ]
  },
  {
   "cell_type": "code",
   "execution_count": 145,
   "id": "be6bdc5f",
   "metadata": {},
   "outputs": [
    {
     "name": "stdout",
     "output_type": "stream",
     "text": [
      "load factor: 1.0\n"
     ]
    }
   ],
   "source": [
    "D2[\"java\"] = 66"
   ]
  },
  {
   "cell_type": "code",
   "execution_count": 146,
   "id": "f4378ddd",
   "metadata": {},
   "outputs": [
    {
     "data": {
      "text/plain": [
       "44"
      ]
     },
     "execution_count": 146,
     "metadata": {},
     "output_type": "execute_result"
    }
   ],
   "source": [
    "D2[\"php\"]"
   ]
  },
  {
   "cell_type": "code",
   "execution_count": 147,
   "id": "7e0000bc",
   "metadata": {},
   "outputs": [
    {
     "data": {
      "text/plain": [
       "33"
      ]
     },
     "execution_count": 147,
     "metadata": {},
     "output_type": "execute_result"
    }
   ],
   "source": [
    "D2[\"python\"]"
   ]
  },
  {
   "cell_type": "code",
   "execution_count": 148,
   "id": "5d5bc564",
   "metadata": {},
   "outputs": [
    {
     "data": {
      "text/plain": [
       "66"
      ]
     },
     "execution_count": 148,
     "metadata": {},
     "output_type": "execute_result"
    }
   ],
   "source": [
    "D2[\"java\"]"
   ]
  },
  {
   "cell_type": "code",
   "execution_count": 149,
   "id": "79fdec1e",
   "metadata": {},
   "outputs": [
    {
     "name": "stdout",
     "output_type": "stream",
     "text": [
      "php --> 44   c --> 55   python --> 33   java --> 66   \n"
     ]
    }
   ],
   "source": [
    "print(D2)"
   ]
  },
  {
   "cell_type": "code",
   "execution_count": 150,
   "id": "005dd6a4",
   "metadata": {},
   "outputs": [
    {
     "data": {
      "text/plain": [
       "4"
      ]
     },
     "execution_count": 150,
     "metadata": {},
     "output_type": "execute_result"
    }
   ],
   "source": [
    "len(D2)"
   ]
  },
  {
   "cell_type": "code",
   "execution_count": 126,
   "id": "ab00db3a",
   "metadata": {},
   "outputs": [],
   "source": [
    "del D2[\"python\"]"
   ]
  },
  {
   "cell_type": "code",
   "execution_count": 127,
   "id": "5826abac",
   "metadata": {},
   "outputs": [
    {
     "data": {
      "text/plain": [
       "'Not present'"
      ]
     },
     "execution_count": 127,
     "metadata": {},
     "output_type": "execute_result"
    }
   ],
   "source": [
    "D2[\"python\"]"
   ]
  },
  {
   "cell_type": "code",
   "execution_count": null,
   "id": "3e3576bb",
   "metadata": {},
   "outputs": [],
   "source": []
  },
  {
   "cell_type": "code",
   "execution_count": 57,
   "id": "77665c23",
   "metadata": {},
   "outputs": [],
   "source": [
    "L = []\n",
    "        \n",
    "for i in range(3):\n",
    "    L.append(LinkedList())"
   ]
  },
  {
   "cell_type": "code",
   "execution_count": 58,
   "id": "c45e7dde",
   "metadata": {},
   "outputs": [
    {
     "data": {
      "text/plain": [
       "[<__main__.LinkedList at 0x2783c420ee0>,\n",
       " <__main__.LinkedList at 0x2783c4206d0>,\n",
       " <__main__.LinkedList at 0x2783c4203d0>]"
      ]
     },
     "execution_count": 58,
     "metadata": {},
     "output_type": "execute_result"
    }
   ],
   "source": [
    "L"
   ]
  },
  {
   "cell_type": "code",
   "execution_count": null,
   "id": "799df2e4",
   "metadata": {},
   "outputs": [],
   "source": []
  }
 ],
 "metadata": {
  "kernelspec": {
   "display_name": "Python 3 (ipykernel)",
   "language": "python",
   "name": "python3"
  },
  "language_info": {
   "codemirror_mode": {
    "name": "ipython",
    "version": 3
   },
   "file_extension": ".py",
   "mimetype": "text/x-python",
   "name": "python",
   "nbconvert_exporter": "python",
   "pygments_lexer": "ipython3",
   "version": "3.9.13"
  }
 },
 "nbformat": 4,
 "nbformat_minor": 5
}
