{
 "cells": [
  {
   "cell_type": "markdown",
   "id": "dd6cc3f6",
   "metadata": {},
   "source": [
    "# Queue Using Linked List"
   ]
  },
  {
   "cell_type": "code",
   "execution_count": 7,
   "id": "38e1a878",
   "metadata": {},
   "outputs": [],
   "source": [
    "class Node:\n",
    "    def __init__(self,value):\n",
    "        self.data = value\n",
    "        self.next = None"
   ]
  },
  {
   "cell_type": "code",
   "execution_count": 55,
   "id": "7989fe4d",
   "metadata": {},
   "outputs": [],
   "source": [
    "class Queue:\n",
    "    def __init__(self):\n",
    "        self.front = None\n",
    "        self.rear = None\n",
    "        \n",
    "    def enqueue(self,value):\n",
    "        \n",
    "        new_node = Node(value)\n",
    "        \n",
    "        if self.rear == None:\n",
    "            self.front = new_node\n",
    "            self.rear = self.front\n",
    "        \n",
    "        else:\n",
    "            self.rear.next = new_node\n",
    "            self.rear = new_node\n",
    "            \n",
    "    def dequeue(self):\n",
    "        \n",
    "        if self.front == None:\n",
    "            return \"Queue is Empty\"\n",
    "        else:\n",
    "            self.front = self.front.next\n",
    "            \n",
    "    def traverse(self):\n",
    "        \n",
    "        curr = self.front\n",
    "        \n",
    "        while curr != None:\n",
    "            print(curr.data,end = \" \")\n",
    "            curr = curr.next\n",
    "            \n",
    "    def is_empty(self):\n",
    "        \n",
    "        return self.front == None\n",
    "    \n",
    "    def size(self):\n",
    "        \n",
    "        count = 0\n",
    "        curr = self.front\n",
    "        \n",
    "        while curr != None:\n",
    "            count += 1\n",
    "            curr = curr.next\n",
    "            \n",
    "        return count\n",
    "    \n",
    "    def front_item(self):\n",
    "        \n",
    "        if self.front == None:            \n",
    "            return \"Empty\"\n",
    "        else:\n",
    "            return self.front.data\n",
    "        \n",
    "    def rear_item(self):\n",
    "        \n",
    "        if self.front == None:\n",
    "            return \"Empty\"\n",
    "        else:\n",
    "            return self.rear.data"
   ]
  },
  {
   "cell_type": "code",
   "execution_count": 56,
   "id": "f0d02c56",
   "metadata": {},
   "outputs": [],
   "source": [
    "q = Queue()"
   ]
  },
  {
   "cell_type": "code",
   "execution_count": 57,
   "id": "c796500d",
   "metadata": {},
   "outputs": [
    {
     "data": {
      "text/plain": [
       "True"
      ]
     },
     "execution_count": 57,
     "metadata": {},
     "output_type": "execute_result"
    }
   ],
   "source": [
    "q.is_empty()"
   ]
  },
  {
   "cell_type": "code",
   "execution_count": 58,
   "id": "7d918d88",
   "metadata": {},
   "outputs": [
    {
     "data": {
      "text/plain": [
       "'Empty'"
      ]
     },
     "execution_count": 58,
     "metadata": {},
     "output_type": "execute_result"
    }
   ],
   "source": [
    "q.front_item()"
   ]
  },
  {
   "cell_type": "code",
   "execution_count": 59,
   "id": "0c4c9d08",
   "metadata": {},
   "outputs": [
    {
     "data": {
      "text/plain": [
       "'Empty'"
      ]
     },
     "execution_count": 59,
     "metadata": {},
     "output_type": "execute_result"
    }
   ],
   "source": [
    "q.rear_item()"
   ]
  },
  {
   "cell_type": "code",
   "execution_count": 60,
   "id": "e8f227e4",
   "metadata": {},
   "outputs": [],
   "source": [
    "q.enqueue(3)\n",
    "q.enqueue(5)\n",
    "q.enqueue(8)"
   ]
  },
  {
   "cell_type": "code",
   "execution_count": 61,
   "id": "722f5da0",
   "metadata": {},
   "outputs": [
    {
     "name": "stdout",
     "output_type": "stream",
     "text": [
      "3 5 8 "
     ]
    }
   ],
   "source": [
    "q.traverse()"
   ]
  },
  {
   "cell_type": "code",
   "execution_count": 62,
   "id": "39dfae48",
   "metadata": {},
   "outputs": [],
   "source": [
    "q.dequeue()"
   ]
  }
 ],
 "metadata": {
  "kernelspec": {
   "display_name": "Python 3 (ipykernel)",
   "language": "python",
   "name": "python3"
  },
  "language_info": {
   "codemirror_mode": {
    "name": "ipython",
    "version": 3
   },
   "file_extension": ".py",
   "mimetype": "text/x-python",
   "name": "python",
   "nbconvert_exporter": "python",
   "pygments_lexer": "ipython3",
   "version": "3.9.13"
  }
 },
 "nbformat": 4,
 "nbformat_minor": 5
}
